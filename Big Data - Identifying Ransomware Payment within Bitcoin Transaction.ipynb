{
 "cells": [
  {
   "cell_type": "markdown",
   "metadata": {
    "application/vnd.databricks.v1+cell": {
     "cellMetadata": {},
     "inputWidgets": {},
     "nuid": "335f243d-e744-4033-b8dd-cde91a097ee7",
     "showTitle": false,
     "title": ""
    }
   },
   "source": [
    "Team 14 Project:\n",
    "Machine Learning Model to Identify Ransomware Payment within Bitcoin Transaction"
   ]
  },
  {
   "cell_type": "code",
   "execution_count": 0,
   "metadata": {
    "application/vnd.databricks.v1+cell": {
     "cellMetadata": {
      "byteLimit": 2048000,
      "rowLimit": 10000
     },
     "inputWidgets": {},
     "nuid": "de8a6baf-5cc1-4eb4-893d-6b9c718b97e0",
     "showTitle": true,
     "title": "Importing libraries"
    }
   },
   "outputs": [
    {
     "output_type": "display_data",
     "data": {
      "application/vnd.databricks.v1+bamboolib_hint": "{\"pd.DataFrames\": [], \"version\": \"0.0.1\"}",
      "text/plain": []
     },
     "metadata": {},
     "output_type": "display_data"
    }
   ],
   "source": [
    "import numpy as np\n",
    "import pandas as pd\n",
    "import matplotlib.pyplot as plt\n",
    "import seaborn as sns\n",
    "import pyspark.sql.functions as F\n",
    "from pyspark.mllib.stat import Statistics\n",
    "from statistics import mode\n",
    "\n",
    "from pyspark.ml.feature import StandardScaler,StringIndexer,VectorAssembler\n",
    "from pyspark.ml import Pipeline\n",
    "from pyspark.ml import PipelineModel\n",
    "from pyspark.ml.evaluation import MulticlassClassificationEvaluator\n",
    "from pyspark.ml.tuning import CrossValidator, ParamGridBuilder\n",
    "from sklearn.model_selection import train_test_split\n",
    "from imblearn.combine import SMOTEENN\n",
    "from imblearn.under_sampling import EditedNearestNeighbours\n",
    "from pyspark.sql.types import DoubleType\n",
    "from pyspark.ml.feature import StandardScaler\n",
    "\n",
    "from pyspark.ml.classification import LogisticRegression\n",
    "from pyspark.ml.classification import RandomForestClassifier\n",
    "from pyspark.ml.classification import DecisionTreeClassifier"
   ]
  },
  {
   "cell_type": "code",
   "execution_count": 0,
   "metadata": {
    "application/vnd.databricks.v1+cell": {
     "cellMetadata": {
      "byteLimit": 2048000,
      "rowLimit": 10000
     },
     "inputWidgets": {},
     "nuid": "b9d96e40-e292-44fc-ad0d-a98a72082bee",
     "showTitle": true,
     "title": "Reading csv"
    }
   },
   "outputs": [
    {
     "output_type": "stream",
     "name": "stdout",
     "output_type": "stream",
     "text": [
      "Out[2]: DataFrame[address: string, year: int, day: int, length: int, weight: double, count: int, looped: int, neighbors: int, income: double, label: string]"
     ]
    }
   ],
   "source": [
    "df = spark.read.csv(\"/mnt/team14/data/BitcoinHeistData.csv\",inferSchema=True,header=True)\n",
    "df.cache()"
   ]
  },
  {
   "cell_type": "code",
   "execution_count": 0,
   "metadata": {
    "application/vnd.databricks.v1+cell": {
     "cellMetadata": {
      "byteLimit": 2048000,
      "rowLimit": 10000
     },
     "inputWidgets": {},
     "nuid": "6353939a-1a59-443d-9f69-f14462cde4fd",
     "showTitle": true,
     "title": "Checking shape of dataset"
    }
   },
   "outputs": [
    {
     "output_type": "stream",
     "name": "stdout",
     "output_type": "stream",
     "text": [
      "2916697 10\n"
     ]
    }
   ],
   "source": [
    "print(df.count(),len(df.columns))"
   ]
  },
  {
   "cell_type": "code",
   "execution_count": 0,
   "metadata": {
    "application/vnd.databricks.v1+cell": {
     "cellMetadata": {
      "byteLimit": 2048000,
      "rowLimit": 10000
     },
     "inputWidgets": {},
     "nuid": "583348b4-6d91-4ff1-92b3-db0417887feb",
     "showTitle": false,
     "title": ""
    }
   },
   "outputs": [
    {
     "output_type": "stream",
     "name": "stdout",
     "output_type": "stream",
     "text": [
      "+--------------------+----+---+------+-------------------+-----+------+---------+--------+---------------+\n|             address|year|day|length|             weight|count|looped|neighbors|  income|          label|\n+--------------------+----+---+------+-------------------+-----+------+---------+--------+---------------+\n|111K8kZAEnJg245r2...|2017| 11|    18|0.00833333333333333|    1|     0|        2|1.0005E8|princetonCerber|\n|1123pJv8jzeFQaCV4...|2016|132|    44|      2.44140625E-4|    1|     0|        1|   1.0E8| princetonLocky|\n|112536im7hy6wtKbp...|2016|246|     0|                1.0|    1|     0|        2|   2.0E8|princetonCerber|\n|1126eDRw2wqSkWosj...|2016|322|    72|         0.00390625|    1|     0|        2|  7.12E7|princetonCerber|\n|1129TSjKtx65E35Gi...|2016|238|   144| 0.0728484071989931|  456|     0|        1|   2.0E8| princetonLocky|\n+--------------------+----+---+------+-------------------+-----+------+---------+--------+---------------+\nonly showing top 5 rows\n\n"
     ]
    }
   ],
   "source": [
    "df.show(5)"
   ]
  },
  {
   "cell_type": "code",
   "execution_count": 0,
   "metadata": {
    "application/vnd.databricks.v1+cell": {
     "cellMetadata": {
      "byteLimit": 2048000,
      "rowLimit": 10000
     },
     "inputWidgets": {},
     "nuid": "cfead042-6d3a-4e57-9fc9-ce6b0609394a",
     "showTitle": true,
     "title": "Due to the number of distinct labels, we decided to cluster the ransomware labels by Location, changing labels to 4 class problem from 29 labels"
    }
   },
   "outputs": [],
   "source": [
    "distinct_labels = ['padua','montreal','princeton','white']\n",
    "for i in range(len(distinct_labels)):\n",
    "  df = df.withColumn(\"label\", F.when(F.col(\"label\").startswith(distinct_labels[i]),distinct_labels[i]).otherwise(F.col(\"label\")))"
   ]
  },
  {
   "cell_type": "code",
   "execution_count": 0,
   "metadata": {
    "application/vnd.databricks.v1+cell": {
     "cellMetadata": {
      "byteLimit": 2048000,
      "rowLimit": 10000
     },
     "inputWidgets": {},
     "nuid": "b80361b5-bdd7-4cb9-86fa-3d231988f3c6",
     "showTitle": true,
     "title": "Printing distinct lables we got in the end"
    }
   },
   "outputs": [
    {
     "output_type": "stream",
     "name": "stdout",
     "output_type": "stream",
     "text": [
      "+---------+\n|    label|\n+---------+\n|    white|\n|princeton|\n|    padua|\n| montreal|\n+---------+\n\n"
     ]
    }
   ],
   "source": [
    "df.select(\"label\").distinct().show()"
   ]
  },
  {
   "cell_type": "markdown",
   "metadata": {
    "application/vnd.databricks.v1+cell": {
     "cellMetadata": {
      "byteLimit": 2048000,
      "rowLimit": 10000
     },
     "inputWidgets": {},
     "nuid": "7efb0aeb-ec87-43e4-a5da-8d671a23f716",
     "showTitle": false,
     "title": ""
    }
   },
   "source": [
    "#EDA"
   ]
  },
  {
   "cell_type": "code",
   "execution_count": 0,
   "metadata": {
    "application/vnd.databricks.v1+cell": {
     "cellMetadata": {
      "byteLimit": 2048000,
      "rowLimit": 10000
     },
     "inputWidgets": {},
     "nuid": "e8b2b977-0f20-40d0-9c0c-ee6352cefacc",
     "showTitle": true,
     "title": "Checking the data imbalance for newly obtained labels"
    }
   },
   "outputs": [
    {
     "output_type": "display_data",
     "data": {
      "text/html": [
       "<style scoped>\n",
       "  .table-result-container {\n",
       "    max-height: 300px;\n",
       "    overflow: auto;\n",
       "  }\n",
       "  table, th, td {\n",
       "    border: 1px solid black;\n",
       "    border-collapse: collapse;\n",
       "  }\n",
       "  th, td {\n",
       "    padding: 5px;\n",
       "  }\n",
       "  th {\n",
       "    text-align: left;\n",
       "  }\n",
       "</style><div class='table-result-container'><table class='table-result'><thead style='background-color: white'><tr><th>label</th><th>count</th></tr></thead><tbody><tr><td>white</td><td>2875284</td></tr><tr><td>princeton</td><td>15848</td></tr><tr><td>padua</td><td>12402</td></tr><tr><td>montreal</td><td>13163</td></tr></tbody></table></div>"
      ]
     },
     "metadata": {
      "application/vnd.databricks.v1+output": {
       "addedWidgets": {},
       "aggData": [],
       "aggError": "",
       "aggOverflow": false,
       "aggSchema": [],
       "aggSeriesLimitReached": false,
       "aggType": "",
       "arguments": {},
       "columnCustomDisplayInfos": {},
       "data": [
        [
         "white",
         2875284
        ],
        [
         "princeton",
         15848
        ],
        [
         "padua",
         12402
        ],
        [
         "montreal",
         13163
        ]
       ],
       "datasetInfos": [],
       "dbfsResultPath": null,
       "isJsonSchema": true,
       "metadata": {},
       "overflow": false,
       "plotOptions": {
        "customPlotOptions": {},
        "displayType": "table",
        "pivotAggregation": null,
        "pivotColumns": null,
        "xColumns": null,
        "yColumns": null
       },
       "removedWidgets": [],
       "schema": [
        {
         "metadata": "{}",
         "name": "label",
         "type": "\"string\""
        },
        {
         "metadata": "{}",
         "name": "count",
         "type": "\"long\""
        }
       ],
       "type": "table"
      }
     },
     "output_type": "display_data"
    },
    {
     "output_type": "display_data",
     "data": {
      "text/plain": [
       "Databricks visualization. Run in Databricks to view."
      ]
     },
     "metadata": {
      "application/vnd.databricks.v1.subcommand+json": {
       "bindings": {},
       "collapsed": false,
       "command": "%python\n__backend_agg_display_orig = display\n__backend_agg_dfs = []\ndef __backend_agg_display_new(df):\n    __backend_agg_df_modules = [\"pandas.core.frame\", \"databricks.koalas.frame\", \"pyspark.sql.dataframe\", \"pyspark.pandas.frame\"]\n    if (type(df).__module__ in __backend_agg_df_modules and type(df).__name__ == 'DataFrame') or isinstance(df, list):\n        __backend_agg_dfs.append(df)\n\ndisplay = __backend_agg_display_new\n\ndef __backend_agg_user_code_fn():\n    import base64\n    exec(base64.standard_b64decode(\"I0NoZWNraW5nIGZvciBjb3VudHMgb2YgZGF0YQpkaXNwbGF5KGRmLmdyb3VwQnkoJ2xhYmVsJykuY291bnQoKSk=\").decode())\n\ntry:\n    # run user code\n    __backend_agg_user_code_fn()\n\n    #reset display function\n    display = __backend_agg_display_orig\n\n    if len(__backend_agg_dfs) > 0:\n        # create a temp view\n        if hasattr(__backend_agg_dfs[0], \"to_spark\"):\n            # koalas dataframe\n            __backend_agg_dfs[0].to_spark().createOrReplaceTempView(\"DatabricksView3a070af\")\n        elif type(__backend_agg_dfs[0]).__module__ == \"pandas.core.frame\" or isinstance(__backend_agg_dfs[0], list):\n            # pandas dataframe\n            spark.createDataFrame(__backend_agg_dfs[0]).createOrReplaceTempView(\"DatabricksView3a070af\")\n        else:\n            __backend_agg_dfs[0].createOrReplaceTempView(\"DatabricksView3a070af\")\n        #run backend agg\n        display(spark.sql(\"\"\"WITH q AS (select * from DatabricksView3a070af) SELECT `label`,SUM(`count`) `column_f432f7f55` FROM q GROUP BY `label`\"\"\"))\n    else:\n        displayHTML(\"dataframe no longer exists. If you're using dataframe.display(), use display(dataframe) instead.\")\n\n\nfinally:\n    spark.sql(\"drop view if exists DatabricksView3a070af\")\n    display = __backend_agg_display_orig\n    del __backend_agg_display_new\n    del __backend_agg_display_orig\n    del __backend_agg_dfs\n    del __backend_agg_user_code_fn\n\n",
       "commandTitle": "Data Imbalanced",
       "commandType": "auto",
       "commandVersion": 0,
       "commentThread": [],
       "commentsVisible": false,
       "contentSha256Hex": null,
       "customPlotOptions": {
        "redashChart": [
         {
          "key": "type",
          "value": "CHART"
         },
         {
          "key": "options",
          "value": {
           "alignYAxesAtZero": true,
           "coefficient": 1,
           "columnConfigurationMap": {
            "x": {
             "column": "label",
             "id": "column_f432f7f53"
            },
            "y": [
             {
              "column": "count",
              "id": "column_f432f7f55",
              "transform": "SUM"
             }
            ]
           },
           "dateTimeFormat": "DD/MM/YYYY HH:mm",
           "direction": {
            "type": "clockwise"
           },
           "error_y": {
            "type": "data",
            "visible": true
           },
           "globalSeriesType": "pie",
           "isAggregationOn": true,
           "legend": {
            "traceorder": "normal"
           },
           "missingValuesAsZero": true,
           "numBins": 10,
           "numberFormat": "0,0[.]00000",
           "percentFormat": "0[.]00%",
           "series": {
            "error_y": {
             "type": "data",
             "visible": true
            },
            "stacking": null
           },
           "seriesOptions": {
            "column_f2338a6927": {
             "name": "count",
             "type": "pie",
             "yAxis": 0
            },
            "column_f432f7f55": {
             "type": "pie",
             "yAxis": 0
            }
           },
           "showDataLabels": true,
           "sizemode": "diameter",
           "sortX": true,
           "sortY": true,
           "swappedAxes": false,
           "textFormat": "",
           "useAggregationsUi": true,
           "valuesOptions": {
            "0": {
             "color": "#356AFF"
            },
            "1": {
             "color": "#E92828"
            }
           },
           "version": 2,
           "xAxis": {
            "labels": {
             "enabled": true
            },
            "type": "-"
           },
           "yAxis": [
            {
             "type": "-"
            },
            {
             "opposite": true,
             "type": "-"
            }
           ]
          }
         }
        ]
       },
       "datasetPreviewNameToCmdIdMap": {},
       "diffDeletes": [],
       "diffInserts": [],
       "displayType": "redashChart",
       "error": null,
       "errorSummary": null,
       "errorTraceType": null,
       "finishTime": 0,
       "globalVars": {},
       "guid": "",
       "height": "auto",
       "hideCommandCode": false,
       "hideCommandResult": false,
       "iPythonMetadata": null,
       "inputWidgets": {},
       "isLockedInExamMode": false,
       "latestUser": "a user",
       "latestUserId": null,
       "listResultMetadata": null,
       "metadata": {
        "byteLimit": 2048000,
        "rowLimit": 10000
       },
       "nuid": "8e487bca-ff4e-4397-8928-288dd2364b6d",
       "origId": 0,
       "parentHierarchy": [],
       "pivotAggregation": null,
       "pivotColumns": null,
       "position": 4.0,
       "resultDbfsErrorMessage": null,
       "resultDbfsStatus": "INLINED_IN_TREE",
       "results": null,
       "showCommandTitle": false,
       "startTime": 0,
       "state": "input",
       "streamStates": {},
       "subcommandOptions": {
        "queryPlan": {
         "groups": [
          {
           "column": "label",
           "type": "column"
          }
         ],
         "selects": [
          {
           "column": "label",
           "type": "column"
          },
          {
           "alias": "column_f432f7f55",
           "args": [
            {
             "column": "count",
             "type": "column"
            }
           ],
           "function": "SUM",
           "type": "function"
          }
         ]
        }
       },
       "submitTime": 0,
       "subtype": "tableResultSubCmd.visualization",
       "tableResultIndex": 0,
       "useConsistentColors": false,
       "version": "CommandV1",
       "width": "auto",
       "workflows": [],
       "xColumns": null,
       "yColumns": null
      }
     },
     "output_type": "display_data"
    }
   ],
   "source": [
    "display(df.groupBy('label').count())"
   ]
  },
  {
   "cell_type": "code",
   "execution_count": 0,
   "metadata": {
    "application/vnd.databricks.v1+cell": {
     "cellMetadata": {
      "byteLimit": 2048000,
      "rowLimit": 10000
     },
     "inputWidgets": {},
     "nuid": "340946e4-f370-4dc0-a29a-836036983773",
     "showTitle": true,
     "title": "Checking whether we have any missing/na values in our dataset that we might have to deal with"
    }
   },
   "outputs": [
    {
     "output_type": "stream",
     "name": "stdout",
     "output_type": "stream",
     "text": [
      "+-------+----+---+------+------+-----+------+---------+------+-----+\n|address|year|day|length|weight|count|looped|neighbors|income|label|\n+-------+----+---+------+------+-----+------+---------+------+-----+\n|      0|   0|  0|     0|     0|    0|     0|        0|     0|    0|\n+-------+----+---+------+------+-----+------+---------+------+-----+\n\n"
     ]
    }
   ],
   "source": [
    "#Checking for missing values\n",
    "missing_value = df.select([F.count(F.when(F.col(c).isNull(), c)).alias(c) for c in df.columns])\n",
    "missing_value.show()"
   ]
  },
  {
   "cell_type": "markdown",
   "metadata": {
    "application/vnd.databricks.v1+cell": {
     "cellMetadata": {
      "byteLimit": 2048000,
      "rowLimit": 10000
     },
     "inputWidgets": {},
     "nuid": "42b59b92-8224-43b1-83fe-ee3488001700",
     "showTitle": false,
     "title": ""
    }
   },
   "source": [
    "No missing values hence we do not need to do data interpolation"
   ]
  },
  {
   "cell_type": "code",
   "execution_count": 0,
   "metadata": {
    "application/vnd.databricks.v1+cell": {
     "cellMetadata": {
      "byteLimit": 2048000,
      "rowLimit": 10000
     },
     "inputWidgets": {},
     "nuid": "51d5c010-8805-402e-9b93-3ad58cecfb09",
     "showTitle": true,
     "title": "Checking if we have any duplicated rows in our dataset"
    }
   },
   "outputs": [
    {
     "output_type": "stream",
     "name": "stdout",
     "output_type": "stream",
     "text": [
      "Out[12]: 0"
     ]
    }
   ],
   "source": [
    "df.toPandas().duplicated().sum()"
   ]
  },
  {
   "cell_type": "markdown",
   "metadata": {
    "application/vnd.databricks.v1+cell": {
     "cellMetadata": {
      "byteLimit": 2048000,
      "rowLimit": 10000
     },
     "inputWidgets": {},
     "nuid": "f9064484-17bc-4a77-9508-9b8fd50dd6db",
     "showTitle": false,
     "title": ""
    }
   },
   "source": [
    "as the returned count is zero, it is safe to say our dataset only have distinct rows"
   ]
  },
  {
   "cell_type": "code",
   "execution_count": 0,
   "metadata": {
    "application/vnd.databricks.v1+cell": {
     "cellMetadata": {
      "byteLimit": 2048000,
      "rowLimit": 10000
     },
     "inputWidgets": {},
     "nuid": "94d1902d-7eab-4735-85cd-c0301008425e",
     "showTitle": false,
     "title": ""
    }
   },
   "outputs": [
    {
     "output_type": "stream",
     "name": "stdout",
     "output_type": "stream",
     "text": [
      "root\n |-- address: string (nullable = true)\n |-- year: integer (nullable = true)\n |-- day: integer (nullable = true)\n |-- length: integer (nullable = true)\n |-- weight: double (nullable = true)\n |-- count: integer (nullable = true)\n |-- looped: integer (nullable = true)\n |-- neighbors: integer (nullable = true)\n |-- income: double (nullable = true)\n |-- label: string (nullable = true)\n\n"
     ]
    }
   ],
   "source": [
    "df.printSchema()"
   ]
  },
  {
   "cell_type": "markdown",
   "metadata": {
    "application/vnd.databricks.v1+cell": {
     "cellMetadata": {
      "byteLimit": 2048000,
      "rowLimit": 10000
     },
     "inputWidgets": {},
     "nuid": "52ef4782-745b-4dfa-a544-de74d8a181b6",
     "showTitle": false,
     "title": ""
    }
   },
   "source": [
    "By checking the schema of this dataset, we can see that except address every feature is numeric so we can exclude address from our model as it is not relevant to the case and can't be label encoded to be feeded to the model either.\n",
    "We also notice that our dataset is made up of continous data."
   ]
  },
  {
   "cell_type": "code",
   "execution_count": 0,
   "metadata": {
    "application/vnd.databricks.v1+cell": {
     "cellMetadata": {
      "byteLimit": 2048000,
      "rowLimit": 10000
     },
     "inputWidgets": {},
     "nuid": "3efd74b3-cab3-4916-a649-88e625c31b33",
     "showTitle": false,
     "title": ""
    }
   },
   "outputs": [
    {
     "output_type": "stream",
     "name": "stdout",
     "output_type": "stream",
     "text": [
      "+-------+--------------------+------------------+------------------+-----------------+--------------------+------------------+------------------+------------------+--------------------+--------+\n|summary|             address|              year|               day|           length|              weight|             count|            looped|         neighbors|              income|   label|\n+-------+--------------------+------------------+------------------+-----------------+--------------------+------------------+------------------+------------------+--------------------+--------+\n|  count|             2916697|           2916697|           2916697|          2916697|             2916697|           2916697|           2916697|           2916697|             2916697| 2916697|\n|   mean|                null| 2014.475011288454|  181.457211016434|45.00859293920486|  0.5455192341639862| 721.6446428957139|238.50669884461772| 2.206516137946451| 4.464889007186172E9|    null|\n| stddev|                null|2.2573975521135425|104.01183576694083|58.98236229927762|   3.674255255596664|1689.6757938283888| 966.3216858193357|17.918765078246548|1.626859606693473...|    null|\n|    min|11111111111111111...|              2011|                 1|                0|3.60646866835999E-94|                 1|                 0|                 1|               3.0E7|montreal|\n|    25%|                null|              2013|                92|                2|  0.0214844346046448|                 1|                 0|                 1|         7.4280764E7|    null|\n|    50%|                null|              2014|               181|                8|                0.25|                 1|                 0|                 2|               2.0E8|    null|\n|    75%|                null|              2016|               271|              108|             0.88125|                56|                 0|                 2|              9.94E8|    null|\n|    max|             unknown|              2018|               365|              144|     1943.7487933134|             14497|             14496|             12920|  4.9964398238996E13|   white|\n+-------+--------------------+------------------+------------------+-----------------+--------------------+------------------+------------------+------------------+--------------------+--------+\n\n"
     ]
    }
   ],
   "source": [
    "df.summary().show()"
   ]
  },
  {
   "cell_type": "markdown",
   "metadata": {
    "application/vnd.databricks.v1+cell": {
     "cellMetadata": {
      "byteLimit": 2048000,
      "rowLimit": 10000
     },
     "inputWidgets": {},
     "nuid": "21b064b6-4ff9-4bdf-afc1-b494ce99ca03",
     "showTitle": false,
     "title": ""
    }
   },
   "source": [
    "We can see the variation in feature's ranges by looking at their min-max but visualising it using boxplot gives a better overview while making it easier to read it."
   ]
  },
  {
   "cell_type": "code",
   "execution_count": 0,
   "metadata": {
    "application/vnd.databricks.v1+cell": {
     "cellMetadata": {
      "byteLimit": 2048000,
      "rowLimit": 10000
     },
     "inputWidgets": {},
     "nuid": "32039501-98eb-4dd7-a7e1-946b5ce6fb81",
     "showTitle": true,
     "title": "Box plot for all features in same figure"
    }
   },
   "outputs": [
    {
     "output_type": "display_data",
     "data": {
      "image/png": "[encoded data removed]"
     },
     "metadata": {
      "application/vnd.databricks.v1+output": {
       "addedWidgets": {},
       "arguments": {},
       "data": "data:image/png;base64,iVBORw0KGgoAAAANSUhEUgAAAkkAAAKECAYAAAAT9q5eAAAAOXRFWHRTb2Z0d2FyZQBNYXRwbG90bGliIHZlcnNpb24zLjUuMSwgaHR0cHM6Ly9tYXRwbG90bGliLm9yZy/YYfK9AAAACXBIWXMAAAsTAAALEwEAmpwYAAA8iUlEQVR4nO3df5xcZX33//dnd/MDEtHESBQD4fYXTlh+KFHv6hp2XC1FAXMXKE6wqBmLfFu2tNw2NI53xZYpd0RpaWhB0l2IFSZY28JdfyGNs9oVWwwQETKVWiEYKFJqlCSEJbv5fP84Z8Nscu1mA9lzney+no/HPHbnzOzMey/YzXuvc51zzN0FAACAkVpiBwAAAMgjShIAAEAAJQkAACCAkgQAABBASQIAAAigJAEAAARQkoApxszczF53kF5rvpl9x8y2mdnnDsZrToSD+T0DmDooSUAkZvaIme00s+1mttXMvmpmR8fONczMPmxm/ft52oWSnpJ0hLv/7wxiTTgzu9zMdqX/XYZvKw7Ca37xYGUEkA1KEhDXme4+W9KrJP1M0urIeQ7UQkmb/AWcldbM2iYgz8Fyq7vPbrp9JmaYnI8VMGlRkoAccPdnJX1Z0qLhbWb2UjP7gpn9l5ltNrNPmlmLmc01sy1mdmb6vNlm9mMzuyC9f5OZXW9md6a7wb5tZgtD7zvGexQkXS/pV9KZlF8EvvYmSR+StCJ9zrvNbIaZ/bmZPZ7e/tzMZqTP70xzX2ZmT0i6cZRMy82skc6u3dGc3cyuMbOfmtnTZnaPmb2z6bFWM/uEmf1H+n3fs9fM3LvN7N/N7Bdm9pdmZuP7r/PispnZr0n6hKTz0nH6Qbr9ETN7d9PX75ltMrNj012EZTN7VNK3xnp/S/yZmT2Zvv8Pzaz9QL8/ACNRkoAcMLPDJZ0n6V+aNq+W9FJJr5F0qqQLJH3E3X8uabmkNWZ2pKQ/k7TR3b/Q9LXnS/oTSfMkbZR08yhvPdp7NCRdJOl76UzKy/b+Qnf/cPq6n0mf80+SKpL+p6STJZ0k6a2SPtn0Za+UNFfJDNSFgXF4v5JC8euSXiHpnyXVmp7y/fS150q6RdLfmtnM9LFLJZUkvVfSEekYPdP0tWdIeoukEyX9hqTTRhmToBeazd2/IelP9fzs1EkH8LanSipIOm0/7/+rkpZIeoOS/56/Iem/D+T7AxDg7hNyk9Qr6UlJD4zjuUsk3StpUNI5TdsXpts3SnpQ0kUTlZcbt6xvkh6RtF3SLyTtkvS4pBPSx1olPSdpUdPzPyapr+n+akk/lPSYpJc3bb9J0rqm+7MlDUk6Or3vkl63v/eQ9GFJ/fv5Hm6SdEXT/f+Q9N6m+6dJeiT9vDN9v5ljvN7XJZWb7rcoKToLR3n+VkknpZ//SNL7R3meS+pouv8lSX84ynMvT3P+oul21IvMdrmkLwb++797r/f9Yvr5sWnm14xnbCS9S9JDSgpqS+z/t7lxmyy3iZxJuknSr43zuY8q+YV8y17b/1PSr7j7yZLeJukPzeyog5QPyIOlnszSzJR0saRvm9krlcwATZO0uem5myW9uun+DZLaJd3k7nvPGvx0+BN33y7p50r+oW82nvc4UEcFXq/5ff/Lk12Lo1ko6Zp0l9gvlOS24Uxm9vF0d9Mv08dfmn4fknS0kpI2mieaPn9GSXkczZfc/WVNt8dfZLYX6qdNn4/6/u7+LUnXSvpLSU+a2Q1mdsSLfG9gypuwkuTu31HyQ7yHmb3WzL6R7q//ZzN7Y/rcR9z9fkm793qN59x9IL07YyLzAjG5+5C7/72SGZ8OJUeM7VLyD+OwY5TMGsnMWpWUpC9I+m3b9/D2PWtxzGy2kl1Aj+/1nDHfQ8lMxoEaLhPNr9f8vvt7zZ9K+theBeUwd78rXeOzQsmupDlpufylkqIw/LWvfQGZx+vFZAt93zskHd50/5WB5zR/3ajvL0nu/hfufoqSdW1vkPQHL+J7BaDsS8cNkrrTH+SPS/qr/X2BmR1tZvcr+QWxKv2LDphU0oW375c0R1LD3YeU7BKqmtlL0gW6l0oaPoz8E0r+AV0u6SpJX0iL07D3mlmHmU1XsjbpX9y9eVZC43iPn0lakL7GeNUkfdLMXmFm8yT9UdPrjcf1klaa2fHSnoXl56aPvUTJLvn/ktRmZn+kZO3RsL+W9Cdm9vp0PE80s5cfwHtPZLafSTrWzJp/526U9AEzm2ZmiyWd80Lf38zeYmZvM7NpSsrXs9rrj04ABy6zkpT+Nft2JYsZN0r6vJLDnsfk7j919xOVrKH4kJnNn9CgQLb+0cy2S3paUlXSh9z9wfSxbiX/4P1EUr+S3dG9ZnaKkjJzQVp0VikpTH/Y9Lq3SPqUktncUyR9cJT3D75H+ti3lKwFfMLMnhrn93OFpA2S7leyXuredNu4uPs/KPl+1pnZ05IekHR6+vAdkr6hZO3NZiVFoLn4Xa2k9H1TyXj2SDpsvO89wdn+Nv3432Z2b/r5/1Ey87VV0qe173KDA3n/IyStSV9rs5JF21e9oG8UwB7m/kJm1Mf54mbHSvqKu7en+8d/5O6jFiNLDin+irt/eZTHeyV9bbTHAez5Odri7p/c33MBAKPLbCbJ3Z+W9HDT9LCZ2ZiHwprZAjM7LP18jpK1Gj+a8LAAAGDKm7CSZGY1Sd+TdJwlJ5ArKzl3S9mSk6k9KOn96XPfYmZbJJ0r6fNmNry7oSDpX9Pnf1vSZ939hxOVGQAAYNiE7m4DAAA4VHFIPQAAQMCEXDRx3rx5fuyxx07ESx+QHTt2aNasWbFj5A7jEsa4hDEu+2JMwhiXMMYlLE/jcs899zzl7q/Ye/uElKRjjz1WGzZsmIiXPiB9fX3q7OyMHSN3GJcwxiWMcdkXYxLGuIQxLmF5Ghcz2xzazu42AACAAEoSAABAACUJAAAggJIEAAAQQEkCAAAIoCQBAAAEUJIAAAACKEkAAAABlCQAAIAAShIAAEAAJQkAACCAkgQAABBASQIAAAigJAEAAARQkgAAAAIoSQAAAAGUJAAAgABKEgAAQAAlCQAAIICSBAAAEDCukmRmj5jZD81so5ltmOhQAABgcqrVampvb1dXV5fa29tVq9ViRxpV2wE8t+juT01YEgAAMKnVajVVKhX19PRoaGhIra2tKpfLkqRSqRQ53b4OpCQBAAC8YNVqVS9/+cvV1dUld5eZ6ZRTTlG1Ws1lSTJ33/+TzB6WtFWSS/q8u98QeM6Fki6UpPnz55+ybt26gxz1wG3fvl2zZ8+OHSN3GJcwxiWMcdkXYxLGuIQxLs8rFoujPlav1zNMMlKxWLzH3RfvvX28JenV7v6YmR0p6U5J3e7+ndGev3jxYt+wIf7Spb6+PnV2dsaOkTuMSxjjEsa47IsxCWNcwhiX55mZJOklL3mJduzYoVmzZmnbtm2SpPH0kQnMFSxJ41q47e6PpR+flPQPkt56cOMBAICpwMx0+eWX66tf/aouv/zyPcUpj/a7JsnMZklqcfdt6ee/KumPJzwZAACYdBYtWqTe3l41Gg0VCgUtWrRIDz74YOxYQeOZSZovqd/MfiDpbklfdfdvTGwsAAAwGT344INasmSJbr/9di1ZsiS3BUkax0ySu/9E0kkZZAEAAJPYjBkzNDAwoOuuu07XXXfdiO15xBm3AQBAJm688UZNmzZtxLZp06bpxhtvjJRobJQkAACQiVKppLVr1+r4449XS0uLjj/+eK1duzaX50iSOJkkAADIUKlUUqlUOiROjcBMEgAAQAAlCQAAZGayXuAWAADgBTvULnDLTBIAAMhEtVpVT0+PisWi2traVCwW1dPTo2q1GjtaECUJAABkotFoqKOjY8S2jo4ONRqNSInGRkkCAACZKBQK6u/vH7Gtv79fhUIhUqKxUZIAAEAmKpWKyuWy6vW6BgcHVa/XVS6XValUYkcLYuE2AADIxPDi7O7u7j0XuK1Wq7lctC1RkgAAQIY4mSQAAMAhjpIEAAAQQEkCAAAIoCQBAAAEUJIAAAACKEkAAAABlCQAAIAAShIAAEAAJQkAACCAkgQAABBASQIAAAigJAEAAARQkgAAQGZqtZra29vV1dWl9vZ21Wq12JFG1RY7AAAAmBpqtZoqlYp6eno0NDSk1tZWlctlSVKpVIqcbl+UJAAAkIlqtaply5apu7tbjUZDhUJBy5YtU7VapSQBAICpa9OmTXrmmWf2mUl65JFHYkcLYk0SAADIxPTp03XxxRerWCyqra1NxWJRF198saZPnx47WhAzSQAAIBPPPfecVq9erTe96U0aGhpSvV7X6tWr9dxzz8WOFkRJAgAAmVi0aJGWLl06Yk3S+eefr9tuuy12tCBKEgAAyESlUgke3VatVmNHC6IkAQCATAwfwdY8k5TXI9skShIAAMhQqVRSqVRSX1+fOjs7Y8cZE0e3AQAABFCSAABAZrq7uzVz5kwVi0XNnDlT3d3dsSONit1tAAAgE93d3br++uu1atUqLVq0SJs2bdJll10mSVq9enXkdPtiJgkAAGRizZo1WrVqlS699FLNnDlTl156qVatWqU1a9bEjhZESQIAAJkYGBjQRRddNGLbRRddpIGBgUiJxsbuNgAAkIkZM2bowgsv1MaNG/ecAuDkk0/WjBkzYkcLYiYJAABk4tRTT9XNN9+sJUuW6Pbbb9eSJUt0880369RTT40dLYiZJAAAkInHHntMixcv1vXXX6/rrrtOZqbFixfrscceix0tiJIEAAAysWnTJs2bN08LFy7U5s2b93x86qmnYkcLYncbAADIRGtrq5555hlJkplJkp555hm1trbGjDUqZpIAAEAmBgcHNTQ0pGeffVaS9Oyzz+qZZ56Ru0dOFsZMEgAAyMzhhx+umTNnyt01c+ZMHX744bEjjYqZJAAAkJnp06ert7dXQ0NDam1t1dlnn60dO3bEjhVESQIAAJkZGhrS8uXL9eijj+qYY47R0NBQ7EijYncbAADIxIIFC7Rr1y499thj2r17tx577DHt2rVLCxYsiB0tiJIEAAAysXTpUg0MDGju3LmSpLlz52pgYEBLly6NG2wUlCQAAJCJer2ulStXat68eWppadG8efO0cuVK1ev12NGCKEkAACATjUZDxx133Ihtxx13nBqNRqREY2PhNgAAyMRRRx2lyy67TDfffPOeo9vOP/98HXXUUbGjBTGTBAAAMrP3iSPzeiJJiZkkAACQkccff1w33XSTuru71Wg0VCgU9JnPfEYf/vCHY0cLYiYJAABkolAoaMGCBXrggQe0fv16PfDAA1qwYIEKhULsaEGUJAAAkIlKpaJyuax6va7BwUHV63WVy2VVKpXY0YLY3QYAADJRKpV011136fTTT9fAwIBmzJih3/qt31KpVIodLYiZJAAAkIlaraZbb71Vr3rVq2RmetWrXqVbb71VtVotdrQgShIAAMjEihUr1Nraqt7eXn3zm99Ub2+vWltbtWLFitjRgihJAAAgE1u2bNFHPvIRdXd367TTTlN3d7c+8pGPaMuWLbGjBbEmCQAAZObGG2/ULbfcsudkksuWLYsdaVTMJAEAgEy0tbXpueeeG7HtueeeU1tbPuds8pkKAABMOkNDQ2ppadHy5cv16KOP6phjjlFLS4uGhoZiRwtiJgkAAGRi0aJF+tjHPqZZs2ZJkmbNmqWPfexjWrRoUeRkYcwkAQCATFQqFVUqFfX09OxZk1Qul1WtVmNHC6IkAQCATAyfNLL52m3VajW3J5OkJAEAgMyUSiWVSiX19fWps7MzdpwxsSYJAAAggJIEAAAQQEkCAAAIoCQBAAAEUJIAAAACKEkAAAABlCQAAIAAShIAAEAAJQkAAGSmVqupvb1dXV1dam9vV61Wix1pVJxxGwAAZKJWqwWv3SYpl5cmYSYJAABkolqtqqenR8ViUW1tbSoWi+rp6cntBW4pSQAAIBONRkMdHR0jtnV0dKjRaERKNDZKEgAAyEShUFB/f/+Ibf39/SoUCpESjY2SBAAAMlGpVFQul1Wv1zU4OKh6va5yuaxKpRI7WhALtwEAQCaGF2d3d3er0WioUCioWq3mctG2REkCAAAZKpVKKpVK6uvrU2dnZ+w4Y2J3GwAAQAAlCQAAIICSBAAAEEBJAgAACKAkAQAABIy7JJlZq5ndZ2ZfmchAAAAAeXAgM0mXSMrnecMBAMAhoVarqb29XV1dXWpvb1etVosdaVTjOk+SmS2Q9D5JVUmXTmgiAAAwKdVqNVUqFfX09GhoaEitra0ql8uSlMsTSo53JunPJa2QtHviogAAgMmsWq2qp6dHxWJRbW1tKhaL6unpUbVajR0tyNx97CeYnSHpve7+22bWKenj7n5G4HkXSrpQkubPn3/KunXrDn7aA7R9+3bNnj07dozcYVzCGJcwxmVfjEkY4xLGuDyvq6tLd9xxh9ra2vaMy+DgoE477TStX78+Wq5isXiPuy/ee/t4dre9Q9JZZvZeSTMlHWFmX3T3DzY/yd1vkHSDJC1evNjzcKrxQ+GU5zEwLmGMSxjjsi/GJIxxCWNcnlcoFNTa2qrOzs4941Kv11UoFHI5Rvvd3ebuK919gbsfK+kDkr61d0ECAADYn0qlonK5rHq9rsHBQdXrdZXLZVUqldjRgrjALQAAyMTw4uzu7m41Gg0VCgVVq9VcLtqWDrAkuXufpL4JSQIAACa9UqmkUql0SOyG5IzbAAAAAZQkAACAAEoSAABAACUJAAAggJIEAAAQQEkCAAAIoCQBAAAEUJIAAAACKEkAAAABlCQAAIAAShIAAEAAJQkAACCAkgQAABBASQIAAAigJAEAAARQkgAAAAIoSQAAAAGUJAAAgABKEgAAQAAlCQAAIICSBAAAEEBJAgAACKAkAQAABFCSAAAAAihJAAAAAZQkAACAAEoSAABAACUJAAAggJIEAAAQQEkCAAAIoCQBAAAEUJIAAAACKEkAAAABlCQAAIAAShIAAEAAJQkAACCAkgQAABBASQIAAAigJAEAAARQkgAAQGZqtZra29vV1dWl9vZ21Wq12JFGRUkCAACZqNVquuSSS7Rjxw5J0o4dO3TJJZfktihRkgAAQCZWrFihtrY29fb26o477lBvb6/a2tq0YsWK2NGCKEkAACATW7Zs0dq1a1UsFtXW1qZisai1a9dqy5YtsaMFUZIAAAACKEkAACATCxYs0AUXXKB6va7BwUHV63VdcMEFWrBgQexoQW2xAwAAgKnhM5/5jC655BItX75cmzdv1sKFCzU0NKSrr746drQgZpIAAEAmSqWSrrnmGs2aNUtmplmzZumaa65RqVSKHS2ImSQAAJCZUqmkUqmkvr4+dXZ2xo4zJmaSAAAAAihJAAAAAZQkAACAAEoSAABAACUJAAAggJIEAAAQQEkCAAAIoCQBAAAEUJIAAAACKEkAAAABlCQAAIAAShIAAEAAJQkAACCAkgQAABBASQIAAAigJAEAAARQkgAAAAIoSQAAAAGUJAAAgABKEgAAQAAlCQAAIICSBAAAEEBJAgAACKAkAQAABFCSAAAAAihJAAAAAZQkAACAAEoSAABAACUJAAAggJIEAAAQQEkCAAAIoCQBAAAEUJIAAAACKEkAAAABlCQAAIAAShIAAEAAJQkAACCAkgQAABBASQIAAAigJAEAAARQkgAAAAIoSQAAAAH7LUlmNtPM7jazH5jZg2b26SyCAQAAxNQ2jucMSHqXu283s2mS+s3s6+7+LxOcDQAAIJr9liR3d0nb07vT0ptPZCgAAIDYxrUmycxazWyjpCcl3enu/zqhqQAAACKzZKJonE82e5mkf5DU7e4P7PXYhZIulKT58+efsm7duoMY84XZvn27Zs+eHTtG7jAuYYxLGOOyL8YkjHEJY1zC8jQuxWLxHndfvPf2AypJkmRmfyTpGXf/7GjPWbx4sW/YsOHAUx5kfX196uzsjB0jdxiXMMYljHHZF2MSxriEMS5heRoXMwuWpPEc3faKdAZJZnaYpPdI+reDnhAAACBHxnN026skrTWzViWl6kvu/pWJjQUAABDXeI5uu1/SmzLIAgAAkBuccRsAACCAkgQAABBASQIAAAigJAEAAARQkgAAAAIoSQAAAAGUJAAAgABKEgAAQAAlCQAAIICSBAAAEEBJAgAACKAkAQAABFCSAAAAAihJAAAAAZQkAACAAEoSAABAACUJAAAggJIEAAAQQEkCAAAIoCQBAAAEUJIAAAACKEkAAAABlCQAAIAAShIAAEAAJQkAACCAkgQAABBASQIAAAigJAEAAARQkgAAAAIoSQAAAAGUJAAAgABKEgAAQAAlCQAAIICSBAAAEEBJAgAACKAkAQAABFCSAAAAAihJAAAAAZQkAACAAEoSAABAACUJAAAggJIEAAAyU6vV1N7erq6uLrW3t6tWq8WONKq22AEAAMDUUKvVVKlU1NPTo6GhIbW2tqpcLkuSSqVS5HT7YiYJAABkolqtqqenR8ViUW1tbSoWi+rp6VG1Wo0dLYiSBAAAMtFoNNTR0TFiW0dHhxqNRqREY6MkAQCATBQKBfX394/Y1t/fr0KhECnR2ChJAAAgE5VKReVyWfV6XYODg6rX6yqXy6pUKrGjBbFwGwAAZGJ4cXZ3d7cajYYKhYKq1WouF21LlCQAAJChUqmkUqmkvr4+dXZ2xo4zJna3AQAABFCSAAAAAihJAAAAAZQkAACAAEoSAABAACUJAAAggJIEAAAQQEkCAAAIoCQBAAAEUJIAAAACKEkAAAABlCQAAIAAShIAAMhMrVZTe3u7urq61N7erlqtFjvSqNpiBwAAAFNDrVZTpVJRT0+PhoaG1NraqnK5LEkqlUqR0+2LmSQAAJCJarWqnp4eFYtFtbW1qVgsqqenR9VqNXa0IEoSAADIRKPRUEdHx4htHR0dajQakRKNjZIEAAAyUSgU1N/fP2Jbf3+/CoVCpERjoyQBAIBMVCoVlctl1et1DQ4Oql6vq1wuq1KpxI4WxMJtAACQieHF2d3d3Wo0GioUCqpWq7lctC1RkgAAQIZKpZJKpZL6+vrU2dkZO86Y2N0GAAAQQEkCAAAIoCQBAAAEUJIAAAACKEkAAAABlCQAAIAAShIAAEAAJQkAACCAkgQAABBASQIAAAigJAEAgMzUajW1t7erq6tL7e3tqtVqsSONimu3AQCATNRqNVUqFfX09GhoaEitra0ql8uSlMuL3DKTBAAAMlGtVtXT06Nisai2tjYVi0X19PSoWq3GjhZESQIAAJloNBrq6OgYsa2jo0ONRiNSorFRkgAAQCYKhYL6+/tHbOvv71ehUIiUaGysSQIAAJmoVCo677zzNGvWLG3evFkLFy7Ujh07dM0118SOFsRMEgAAyJyZxY6wX5QkAACQiWq1qltvvVUPP/yw1q9fr4cffli33norC7cBAMDUdqgt3GZNEgAAyEShUNCnP/1p3XbbbWo0GioUClq6dCkLtwEAwNRWLBa1atUqrVq1SosWLdKmTZt02WWX6aKLLoodLWi/JcnMjpb0BUnzJbmkG9w9n8vQAQBAbtXrdV122WXq7e3dM5N02WWX6bbbbosdLWg8M0mDkv63u99rZi+RdI+Z3enumyY4GwAAmEQajYbuu+8+XXHFFerr61NnZ6d27dqlK6+8Mna0oP0u3Hb3/3T3e9PPt0lqSHr1RAcDAACTy6F2MskDOrrNzI6V9CZJ/zohaQAAwKRVqVRULpdVr9c1ODioer2ucrmsSqUSO1qQufv4nmg2W9K3JVXd/e8Dj18o6UJJmj9//inr1q07mDlfkO3bt2v27NmxY+QO4xLGuIQxLvtiTMIYlzDGZaT169fri1/8oh599FEdc8wx+uAHP6iurq6omYrF4j3uvnjv7eMqSWY2TdJXJN3h7lfv7/mLFy/2DRs2vKCgB9Pw/k6MxLiEMS5hjMu+GJMwxiWMcQnL07iYWbAk7Xd3myXnDe+R1BhPQQIAAJgMxrMm6R2SflPSu8xsY3p77wTnAgAAiGq/pwBw935J+b8KHQAAwEHEtdsAAAACKEkAAAABlCQAAIAAShIAAEAAJQkAACCAkgQAABBASQIAAAigJAEAAARQkgAAAAIoSQAAAAGUJAAAgABKEgAAQAAlCQAAIICSBAAAEEBJAgAACKAkAQCAzNRqNbW3t6urq0vt7e2q1WqxI42qLXYAAAAwNdRqNVUqFfX09GhoaEitra0ql8uSpFKpFDndvphJAgAAmahWq+rp6VGxWFRbW5uKxaJ6enpUrVZjRwuiJAEAgEw0Gg11dHSM2NbR0aFGoxEp0dgoSQAAIBOFQkH9/f0jtvX396tQKERKNDZKEgAAyESlUlG5XFa9Xtfg4KDq9brK5bIqlUrsaEEs3AYAAJkYXpzd3d2tRqOhQqGgarWay0XbEiUJAABkqFQqqVQqqa+vT52dnbHjjIndbQAAAAGUJAAAgABKEgAAQAAlCQAAIICSBAAAEEBJAgAACKAkAQAABFCSAAAAAihJAAAAAZQkAACAAEoSAABAACUJAAAggJIEAAAQQEkCAACZqdVqam9vV1dXl9rb21Wr1WJHGlVb7AAAAGBqqNVqqlQq6unp0dDQkFpbW1UulyVJpVIpcrp9UZIAAEAmqtWqli1bpu7ubjUaDRUKBS1btkzVapWSBAAApq5NmzZpx44d6u3t3TOTtHz5cm3evDl2tCBKEgAAyMT06dM1ffp0dXV1yd1lZnr961+v6dOnx44WxMJtAACQiYGBAT300EOaNWuWJGnWrFl66KGHNDAwEDlZGCUJAABkZtq0aZo3b55aWlo0b948TZs2LXakUbG7DQAAZGbOnDkj1iR94AMf0JNPPhk7VhAlCQAAZOaEE04YcXTbCSecoPXr18eOFcTuNgAAkIlZs2Zp/fr1WrJkiW6//XYtWbJE69ev37NGKW8oSQAAIBNr1qzRtGnTdN111+nMM8/Uddddp2nTpmnNmjWxowVRkgAAQGZmzpy5Z7H2tGnTNHPmzMiJRkdJAgAAmVixYoVmz56tO+64Q3feeafuuOMOzZ49WytWrIgdLYiSBAAAMrFlyxatXbtWxWJRbW1tKhaLWrt2rbZs2RI7WhAlCQAAIIBTAAAAgEwsWLBA5557rubMmaPNmzdr4cKF2rp1qxYsWBA7WhAzSQAAIBNLly7Vtm3btHPnTknSzp07tW3bNi1dujRusFFQkgAAQCbq9bpWrlypefPmycw0b948rVy5UvV6PXa0IHa3AQCATDQaDd1333264oor1NfXp87OTu3atUtXXnll7GhBzCQBAIBMFAoF9ff3j9jW39+vQqEQKdHYKEkAACATlUpF5XJZ9Xpdg4ODqtfrKpfLqlQqsaMFsbsNAABkolQqSdKIC9xWq9U92/OGkgQAADJTKpVUKpX2rEnKM3a3AQCAzNRqNbW3t6urq0vt7e2q1WqxI42KmSQAAJCJWq2miy66SDt37tTu3bv10EMP6aKLLpKkXO5yYyYJAABk4uKLL9a2bds0d+5cmZnmzp2rbdu26eKLL44dLYiZJAAAkImf//znmjNnjmq1moaGhtTa2qqzzz5bP//5z2NHC2ImCQAAZGbFihUqFotqa2tTsVjUihUrYkcaFTNJAAAgM1dddZXe9ra3aWhoSPV6XVdddVXsSKOiJAEAgEzMnTtXW7du1bJly/Tkk0/qyCOP1NatWzV37tzY0YLY3QYAADJx7bXXqq2tTU888YR2796tJ554Qm1tbbr22mtjRwuiJAEAgEzcddddGhoa0vz58yVJ8+fP19DQkO66667IycIoSQAAIBNr1qzRVVddpSeeeEL1el1PPPGErrrqKq1ZsyZ2tCBKEgAAyMTAwIDmzJkz4ozbc+bM0cDAQOxoQZQkAACQiba2NnV3d2vHjh2SpB07dqi7u1ttbfk8joySBAAAMjFjxgzt2LFDp59+um6//Xadfvrp2rFjh2bMmBE7WhAlCQAAZGLHjh0666yz1NvbqzPPPFO9vb0666yz9sws5Q0lCQAAZObiiy/Ws88+q3q9rmeffTa3122TOJkkAADIyIIFC3Tuuedqzpw52rx5sxYuXKitW7dqwYIFsaMFMZMEAAAysXTpUm3btk07d+6UJO3cuVPbtm3T0qVL4wYbBSUJAABkol6va+XKlZo3b57MTPPmzdPKlStVr9djRwtidxsAAMhEo9HQfffdpyuuuEJ9fX3q7OzUrl27dOWVV8aOFsRMEgAAyEShUFB/f/+Ibf39/SoUCpESjY2SBAAAMlGpVFQul1Wv1zU4OKh6va5yuaxKpRI7WhC72wAAQCZKpZIkqbu7W41GQ4VCQdVqdc/2vKEkAQCAzJRKJZVKpT1rkvKM3W0AAAABlCQAAIAAShIAAMhMd3e3Zs6cqWKxqJkzZ6q7uzt2pFGxJgkAAGSiu7tb119/vVatWqVFixZp06ZNuuyyyyRJq1evjpxuX8wkAQCATKxZs0bnnXeeent79b73vU+9vb0677zztGbNmtjRgphJAgAAmRgYGNB3v/td9fb2amhoSK2trVq+fLkGBgZiRwtiJgkAAGTCzHT66aerWCyqra1NxWJRp59+uswsdrQgZpIAAEAm3F1r1qzR6173Oi1atEhXX3211qxZI3ePHS1ovyXJzHolnSHpSXdvn/hIAABgMjr++ON12GGH6eMf/7jcXWamU045RTt37owdLWg8u9tukvRrE5wDAABMcsViURs3btRnP/tZff3rX9dnP/tZbdy4UcViMXa0oP3OJLn7d8zs2AyyAACASaxer+uMM87QJz7xCQ0MDGjGjBk644wzVK/XY0cLsvHsB0xL0lfG2t1mZhdKulCS5s+ff8q6desOVsYXbPv27Zo9e3bsGLnDuIQxLmGMy74YkzDGJYxxed673vUuHXHEETrssMP05JNP6sgjj9TOnTv19NNP61vf+la0XMVi8R53X7z39oNWkpotXrzYN2zYcMAhD7ZD4eJ5MTAuYYxLGOOyL8YkjHEJY1yeN23aNB1xxBH68pe/vOcUAOecc46efvpp7dq1K1ouMwuWJI5uAwAAmRgcHNTg4KCWL1+uzZs3a+HChXu25RElCQAAZObpp5/W008/LUl65JFH4obZj/0e3WZmNUnfk3ScmW0xs/LExwIAAJOVme255dl4jm4rZREEAABMDS0tLXvWJA0NDcWOMyouSwIAADLT2tqqlpakfrS0tKi1tTVyotFRkgAAQGaGhob2XIbE3ZlJAgAAGDZ8NFtej2obRkkCAAAIoCQBAIBMzZkzRy0tLZozZ07sKGOiJAEAgMyYmbZv367du3dr+/btuT4NACUJAABkxt33XMtu9uzZGs/l0WKhJAEAgExt3bp1xMe8oiQBAAAEUJIAAEAm2tra9pxIclhLS4va2vJ5Kdl8pgIAAJNO6LxIu3fv1u7duyOk2T9mkgAAQKaaL0uSZ/lOBwAAJp0jjzxSLS0tOvLII2NHGRMlCQAAZMrdtXv37lwf/i9RkgAAQMZ+9rOfjfiYV5QkAACAAEoSAABAACUJAABkJnSepLzKbzIAADDp7N69W62trZKk1tbW3J4jSaIkAQCAjA0NDY34mFeUJAAAgABKEgAAyMy0adPGvJ8nlCQAAJCZXbt2jXk/TyhJAAAgU2Y24mNeUZIAAECmhi9HwmVJAAAADkGUJAAAgABKEgAAQAAlCQAAIICSBAAAMjVnzpwRH/OKkgQAADK1devWER/zipIEAAAQQEkCAAAIoCQBAAAEUJIAAAACKEkAAAABlCQAAIAAShIAAEAAJQkAACCAkgQAABBASQIAAAigJAEAAARQkgAAAAIoSQAAAAGUJAAAgABKEgAAQAAlCQAAIICSBAAAEEBJAgAACKAkAQAABFCSAAAAAihJAAAAAZQkAACAAEoSAABAACUJAAAggJIEAAAQQEkCAAAIoCQBAAAEUJIAAAACKEkAAAABlCQAAIAAShIAAEAAJQkAACCAkgQAABBASQIAAAigJAEAAARQkgAAAAIoSQAAAAGUJAAAgABKEgAAQAAlCQAAIICSBAAAEEBJAgAACKAkAQAABFCSAAAAAihJAAAAAZQkAACAAEoSAABAACUJAAAggJIEAAAQQEkCAAAIoCQBAAAEUJIAAAACKEkAAAABlCQAAIAAShIAAEAAJQkAACCAkgQAABBASQIAAAigJAEAAAS0jedJZvZrkq6R1Crpr939/05oKgDRmdk+29w9QpL8YEzCGJcwxuXQt9+ZJDNrlfSXkk6XtEhSycwWTXQwAPGEfrmPtX0qYEzCGJcwxmVyGM/utrdK+rG7/8Tdn5O0TtL7JzYWgDxwd9Xrdf76bcKYhDEuYYzLoc329x/OzM6R9Gvu/tH0/m9Kepu7X7zX8y6UdKEkzZ8//5R169a9qGDdm7tf1NcfbKsXro4dQRLjMpo8jQtjEsa4hDEuYYzLvhiTsIMxLsVi8R53X7z39oNWkpotXrzYN2zY8CIjv3h9fX3q7OyMHSN3GJcwxuV5w7sE3H3PuDRvm4oYkzDGJYxxCRtrd2PMcTGzYEkaz8LtxyQd3XR/QboNwCTH+ol9MSZhjEsY43JoG8+apO9Ler2Z/Q8zmy7pA5L+38TGAhDTaH/RTeW/gBmTMMYljHEJO9TGZb8lyd0HJV0s6Q5JDUlfcvcHJzoYgLjcfcSi07z+EssSYxLGuIQxLmGH0riM6zxJ7v41SV+b4CwAAAC5wRm3AQAAAihJAAAAAZQkAACAAEoSAABAACUJAAAggJIEAAAQQEkCAAAIoCQBAAAEUJIAAAACKEkAAAABlCQAAIAAShIAAEAAJQkAACCAkgQAABBASQIAAAigJAEAAARQkgAAAAIoSQAAAAGUJAAAgABz94P/omb/JWnzQX/hAzdP0lOxQ+QQ4xLGuIQxLvtiTMIYlzDGJSxP47LQ3V+x98YJKUl5YWYb3H1x7Bx5w7iEMS5hjMu+GJMwxiWMcQk7FMaF3W0AAAABlCQAAICAyV6SbogdIKcYlzDGJYxx2RdjEsa4hDEuYbkfl0m9JgkAAOCFmuwzSQAAAC8IJQkAACCAkgQAABAwqUqSmbWY2dtj58gjM2uNnQEAgEPJpCpJ7r5b0l/GzpFT/25mV5nZothB8sbMWs3sKDM7ZvgWO1NMZnbJeLZNNWa2fjzbpgoz+0cz+3+j3WLnyxMzm2NmJ8bOkQdm9gYzW29mD6T3TzSzT8bONZpJVZJS683sbDOz2EFy5iRJD0n6azP7FzO70MyOiB0qNjPrlvQzSXdK+mp6+0rUUPF9KLDtw1mHyAszm2lmcyXNS/+xm5vejpX06sjxYvqspM9JeljSTklr0tt2Sf8RMVcumFmfmR2R/r9zr6Q1ZnZ17Fw5sEbSSkm7JMnd75f0gaiJxjDpTgFgZtskzZI0KOlZSSbJ3X3KF4JhZnaqpFskvUzSlyX9ibv/OGqoSMzsx5Le5u7/HTtLbGZWkrRMUoekf2566CWSdrt7V5RgkaWzaL8n6ShJjyn5nSJJT0ta4+7XRoqWC6FLSxwKl5uYaGZ2n7u/ycw+Kulod/+Umd3v7lN6RsnMvu/ubxken3TbRnc/OXK0oLbYAQ42d39J7Ax5lK5Jep+kj0g6VslfgDdLeqekr0l6Q7Rwcf1U0i9jh8iJuyT9p5KLTn6uafs2SfdHSZQD7n6NpGvMrNvdV8fOk0OzzOw17v4TSTKz/6HkD9Wprs3MXiXpNyRVYofJkafM7LWSXJLM7Bwlv3dyadKVJCnZ/yvp9ZJmDm9z9+/ES5QL/y6pLukqd7+rafuXzWxJpEzRmNml6ac/kdRnZl+VNDD8uLtPuWlxd98sabOkX4mdJY/cfXV6YMixavrd6e5fiBYqH35fyc/QT5TMsi2U9LG4kXLh05LukNTv7t83s9co+T081f2OkjNtv9HMHlOyu/aDcSONbjLubvuopEskLZC0UdL/lPQ9d39XzFyxmdlsd98eO0demNmnxnjY3f2PMwuTM2b265JWSTpSyT967LKWZGZ/I+m1Sn6vDKWb3d1/N1qonDCzGZLemN79N3cfGOv5k106c/+77v5nsbPklZnNktTi7ttiZxnLZCxJP5T0Fkn/4u4nm9kbJf2pu/965GhRmdlMSWVJx2vkDNvyaKFywMzOdfe/3d+2qSRdp3WmuzdiZ8kTM2tIWuST7Zfmi2Rmh0u6VNJCd/8tM3u9pOPcfUofAGFmd7v7W2PnyBsze5mkC7TvjGwu/9iYjEe3Pevuz0rJXzfu/m+SjoucKQ/+RtIrJZ0m6dtKZtpy3eAzsnKc26aSn1GQgh5Q8jOEkW6U9Jye3037mKQr4sXJje+a2bVm9k4ze/PwLXaoHPiakoL0Q0n3NN1yaTKuSdqSNtXbJN1pZluVrLOY6l7n7uea2fvdfa2Z3aKRRzBNKWZ2uqT3Snq1mf1F00NHKDkycspJd7NJ0gYzu1XJz1DzOq2/j5ErR+ZJ2mRmd2vkuJwVL1IuvNbdz0uPjpS7P8MpWCRJJ6cfm3fdu6QpvfRD0kx3v3T/T8uHSVeS3P1/pZ9ebmZ1SS+V9I2IkfJiV/rxF2bWLukJJWtOpqrHJW2QdJZG/hWzTclC1KnozKbPn5H0q033XdJUL0mXxw6QU8+Z2WF6/mil16qpRE5V7l6MnSGn/sbMfkvJ+eia/9j4ebxIo5t0a5Ikycw6JL3e3W80s1dImu3uD8fOFVO6oP3vJJ0g6SZJsyX9H3f/fMxcsZnZNHfftf9nAggxs/dI+qSkRZK+Kekdkj7s7n0xc8VmZi+V9ClJw0cPf1vSH7v7lD7liJn9jqSqpF8oLdZKDoB4TbRQY5h0JSk9ammxkoWDbzCzoyT9rbu/I3K0KJoOdR+xOf3oU/FQ92bpQv+9fwh+qWSW6YqpeJLJvXY/DvulpA3ufnvWefIiPVHt8P8r0yVNk7Rjqh/1J0lm9nIlRxKbkoNmnoocKToz+zsl69jWppt+U9JJHERkP5H01kPl/5FJt7tN0v+S9CYlp4GXuz9uZlP5BJPD3/txSo76G76m0pmS7o6SKF++ruRw7lvS+x+QdLiS3ZE3aeQuqKlippLDuYeP8DtbyblMTjKzorv/XqxgMTWfqDZdc/N+JcUA0qlKztTuSsrjP8SNkwuvdfezm+5/2sw2xgqTIz9Wsjv/kDAZS9Jz7u5mNrx/fEqf+dXdPy1JZvYdSW8ePieFmV2u5DplU9273b35iJMfmtm97v5mM8vtCc4m2ImS3uHuQ5JkZtcpWeTfoeSIlCkvPQ3AbenM9R/GzhOTmf2VpNdJqqWbPmZm73b334kYKw92mlmHu/dLkpm9Q8k17qa6HZI2pmuGm9ck5fIUAJOxJH3JzD4v6WXp4rDlSi6oN9XNV3KY7rDn0m1TXauZvdXd75YkM3uLpNb0sSl5lJukOUrWrA2vnZglaa67D5nZlF2Q23T0n5ScPmWxkutDTnXvklQYPn+Uma2V9GDcSLnw/0lam65NMkk/V/ji0VPNbentkDAZS9Jzkv5JycUnj5P0R+5+Z9xIufAFSXeb2fA0+FIlu5Omuo9K6jWz2Up+kT0t6aPpDOSVUZPF8xklf+n1KRmTJZL+NB2Tf4oZLLLmXa+Dkh5RssttqvuxpGP0/KlWjk63TWnuvlHJLuoj0vtPx02UD+kpaKbr+euF/ijPB89MxoXbVyhZV3KvpF5Jd3CG3ER6IrN3pne/4+73xcyTJ+lfe5rqR54MSy/MOXy24O+7++Mx8yC/zOzbStY7Dq9xfIuSAx9+KU3d80ili9k/pefXavUrObptyh0M0szMOpUsZn9EyR9hR0v6UF6vrzrpSpK0Z1Hlryq54v1iSV+S1OPu/xE1GHInvebU2dr3FPlT7tptZvZGd/+30c4K7O73Zp0pT8xsgaTVSg5xl5J1Wpe4+5Z4qeIzs1PHetzdv51VljwxszslfUfSF9NN50vqdPd3x0sVn5ndI2mZu/8ovf8GSTV3PyVusrDJuLtN6cLtJ5QcoTSoZI3Fl83sTndfETcdcuZ2JX/x3iNOgHeppAslfS7wGGcKTi6/cYukc9P7H0y3vSdaohxw92+b2XwlM0iSdLe7PxkzU068yt3/pOn+FWZ2XrQ0+TFtuCBJkrs/ZGbTYgYay6SbSTKzS5RcPO8pSX8t6TZ332VmLZL+3d1fGzUgcsXMHnD39tg5kH9mttHdT97ftqnGzH5D0lWS+pTsPnmnpD9w9y/HzBWbmV2tZBfkl9JN5yg5P9DH46WKz8x6Je3WyBm21rxebH0ylqRPS+p1932u12ZmBS7ciWZmdoOk1e7Ooe2ppqu6H+PuF3JV94SZrVcyczR8qHtJ0kfcvSteqvjM7AeS3jM8e5Re5eCf3P2kuMniaDrpqCk5MnR3+lCLpO1T/eSj6RKH31GyVktKdlv/lbvnciZ/0pUk4ECY2SYl53h5WMnuNlOyx/bEqMEiSi9ue4+kC9y9PS1NdzFjYguVrEn6FSX/CN4lqdvdfxo1WGRm9kN3P6HpfoukHzRvA4alR8k+23QetlZJM9w9lyeYnJRrkoADcHrsADnEVd3D/ljJUThbJcnM5kr6rJJzsU1l3zCzO/T8DNt5kr4WMU9umNmrJS3UyINCcnkUV4bWS3q3pO3p/cOUXPPv7dESjYGShCnN3TeHLogcO1dkXNU97MThgiQlVy03szfFDJQH7v4H6Yk2h3ef3ODuU/6yJGa2Sklh3KTk0kdS8jM11UvSTHcfLkhy9+3pbHUuUZIwpTVfEFnJepNpShYUTskLIqc+Jekbko42s5uVXtU9aqJ8aDGzOXvNJPE7NPFdSbuUlACuCZlYqmQtH39gjLTDzN48fEoRMztFOb5cCz/gmOq4IPK+PqTkun5flvQTJecCOiSu2D3BPifpe2Y2fOHfcyVVI+bJhcDRbavNbMof3abkZ2eamIXd2+9J+lsze1zJ/y+vVDLjlkss3MaUZmZ3u/tbmy5qO0vS96b4wu2iksO43ynptZLuU3KG9muiBssBM1uk588X9S133xQzTx5wdNtIZrZayYzaqyWdpGQNTu4v5Jql9LxIx6V3uSwJkFdm9nFJr1dyQsArlSzCvcXdV0cNFll6xMlbJBUlXSRpp7u/MW4q5BFHt41kZmNexNbd12aVJa/M7O3a9yoHX4gWaAyUJEx5ZvYeJZexMSXX+pvSF0ROzwc0S9L3lJzDpJ8zKGM0ZnaVpBM18ui2+939snipkFdm9jdKZqg3qmlBe15n2ChJAEYwsz+TdIqSXQTfVXI0zvfcPbeLKxGXmZ2tpmvacXRbMsOm9AjRJr9UcvHfK6bqhW7NrCFp0aFy4XlKEqakprPi7vOQkr9qpvRZcSUpXcD+YUkfl/RKd58RNxFw6DCzzyiZKbkl3fQBSYcruaZoh7ufGStbTOmBD7/r7v8ZO8t4cHQbpiR3n+pHsI3KzC5Wsmj7FEmPSOpVstsN2IM/NPbr3e7+5qb7P2w6QOSD0VLFN0/SJjO7WyMXtJ8VL9LoKEkA9jZT0tWS7nH3wdhhkE/8obFfrWb2Vne/W5LM7C2SWtPHpvLP1eWxAxwIdrcBAHCQpaWoV8kZ/E3S05I+KulBSe9z9y9FjIdxoiQBADBBzOylkuTuv4ydJSYz63f3jsBu2lzvnqUkAQBwkJjZB939i2Z2aehxd78660x44ViTBADAwTMr/ciarUmAmSQAAICAltgBAACYbMzsDWa23sweSO+faGafjJ0LB4aSBADAwbdG0kpJuyTJ3e9XckJJHEIoSQAAHHyHD58jqclUPj/SIYmSBADAwfeUmb1W6eHuZnaOpEPiUhx4Hgu3AQA4yMzsNZJukPR2SVslPSzpfHffHDUYDgglCQCAg8zMZkg6R9KxkuYqOeO2u/sfx8yFA8N5kgAAOPhul/QLSfdKejxuFLxQzCQBAHCQmdkD7t4eOwdeHBZuAwBw8N1lZifEDoEXh5kkAAAOMjPbJOl1ShZsD+j5C7meGDUYDgglCQCAg8zMFoa2c3TboYWSBAAAEMCaJAAAgABKEgAAQAAlCcCEMbPfNbOGmd18gF93rJktm6hcADAelCQAE+m3Jb3H3c8/wK87VtIBlyQzaz3QrwGA0VCSAEwIM7te0mskfd3MKmbWa2Z3m9l9Zvb+9DnHmtk/m9m96e3t6Zf/X0nvNLONZvb7ZvZhM7u26bW/Ymad6efbzexzZvYDSb9iZh9M32ejmX3ezFrT201m9oCZ/dDMfj/TwQBwSKIkAZgQ7n6RkssxFCXNkvQtd39rev8qM5sl6UklM01vlnSepL9Iv/wPJf2zu5/s7n+2n7eaJelf3f0kSf+dvs473P1kSUOSzpd0sqRXu3u7u58g6caD950CmKy4dhuALPyqpLPM7OPp/ZmSjlFSoq41s5OVFJo3vIDXHpL0d+nnXZJOkfR9M5Okw5QUsX+U9BozWy3pq5K++cK+DQBTCSUJQBZM0tnu/qMRG80ul/QzSScpmdl+dpSvH9TIme+ZTZ8/6+5DTe+z1t1X7hPA7CRJp0m6SNJvSFp+4N8GgKmE3W0AsnCHpG5Lp3fM7E3p9pdK+k933y3pNyUNL7zeJuklTV//iKSTzazFzI6W9NZR3me9pHPM7Mj0feaa2UIzmyepxd3/TtInJb354H1rACYrZpIAZOFPJP25pPvNrEXJ9azOkPRXkv7OzC6Q9A1JO9Ln3y9pKF2MfVP6tQ9L2iSpIene0Ju4+yYz+6Skb6bvs0vS70jaKenGdJsk7TPTBAB747IkAAAAAexuAwAACKAkAQAABFCSAAAAAihJAAAAAZQkAACAAEoSAABAACUJAAAg4P8HdDUgHEZlIB0AAAAASUVORK5CYII=\n",
       "datasetInfos": [],
       "metadata": {},
       "removedWidgets": [],
       "type": "image"
      }
     },
     "output_type": "display_data"
    }
   ],
   "source": [
    "df.toPandas().boxplot(rot=90, figsize=(10,10))\n",
    "plt.title('Boxplot for each Features')\n",
    "#plt.suptitle('')\n",
    "plt.xlabel('features')\n",
    "plt.show()"
   ]
  },
  {
   "cell_type": "code",
   "execution_count": 0,
   "metadata": {
    "application/vnd.databricks.v1+cell": {
     "cellMetadata": {
      "byteLimit": 2048000,
      "rowLimit": 10000
     },
     "inputWidgets": {},
     "nuid": "42d63c81-acad-4cad-8960-dc2007f0630a",
     "showTitle": true,
     "title": "Individual boxplot for better readability"
    }
   },
   "outputs": [
    {
     "output_type": "display_data",
     "data": {
      "image/png": "[encoded data removed]"
     },
     "metadata": {
      "application/vnd.databricks.v1+output": {
       "addedWidgets": {},
       "arguments": {},
       "data": "data:image/png;base64,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\n",
       "datasetInfos": [],
       "metadata": {},
       "removedWidgets": [],
       "type": "image"
      }
     },
     "output_type": "display_data"
    }
   ],
   "source": [
    "data_mean = df.toPandas().iloc[:, :]\n",
    "data_mean.plot(kind='box', subplots=True, layout=(8,4), sharex=False, sharey=False, fontsize=12, figsize=(15,20));"
   ]
  },
  {
   "cell_type": "markdown",
   "metadata": {
    "application/vnd.databricks.v1+cell": {
     "cellMetadata": {
      "byteLimit": 2048000,
      "rowLimit": 10000
     },
     "inputWidgets": {},
     "nuid": "4fdc3f86-1ec1-45ea-ba5d-6d071c46aacc",
     "showTitle": false,
     "title": ""
    }
   },
   "source": [
    "Looking at the box plot, it can be concluded that the dataset is ridden with lots of outliers and the range of features varies in a huge scale which might result in the ML model having trouble in learning features representing this dataset correctly so we will *\"scale\"* the dataset and deal with outliers"
   ]
  },
  {
   "cell_type": "code",
   "execution_count": 0,
   "metadata": {
    "application/vnd.databricks.v1+cell": {
     "cellMetadata": {
      "byteLimit": 2048000,
      "rowLimit": 10000
     },
     "inputWidgets": {},
     "nuid": "0fbd09ff-aae5-462c-80a8-39ff7b56ed52",
     "showTitle": true,
     "title": "Correlation amongst features"
    }
   },
   "outputs": [
    {
     "output_type": "stream",
     "name": "stdout",
     "output_type": "stream",
     "text": [
      "Out[9]: <AxesSubplot:>"
     ]
    },
    {
     "output_type": "display_data",
     "data": {
      "image/png": "[encoded data removed]"
     },
     "metadata": {
      "application/vnd.databricks.v1+output": {
       "addedWidgets": {},
       "arguments": {},
       "data": "data:image/png;base64,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\n",
       "datasetInfos": [],
       "metadata": {},
       "removedWidgets": [],
       "type": "image"
      }
     },
     "output_type": "display_data"
    }
   ],
   "source": [
    "features = df.rdd.map(lambda row: row[1:-1])\n",
    "corr_mat=Statistics.corr(features, method=\"pearson\")\n",
    "matrix = np.triu(corr_mat)\n",
    "fig, ax = plt.subplots(figsize=(15,15)) \n",
    "sns.heatmap(corr_mat, annot=True, xticklabels=df.columns[1:-1], yticklabels=df.columns[1:-1], square=True, mask=matrix)"
   ]
  },
  {
   "cell_type": "markdown",
   "metadata": {
    "application/vnd.databricks.v1+cell": {
     "cellMetadata": {
      "byteLimit": 2048000,
      "rowLimit": 10000
     },
     "inputWidgets": {},
     "nuid": "e5f968f2-6513-4d99-a772-b23296c4cdd7",
     "showTitle": false,
     "title": ""
    }
   },
   "source": [
    "We can see that count is fairly correlated with length and neighbours with weight. As we can see no feature is highly correlated amongst themselves, we can positively conclude that we dont have redundant features which might be following the same trend strictly or be highly proportional. "
   ]
  },
  {
   "cell_type": "code",
   "execution_count": 0,
   "metadata": {
    "application/vnd.databricks.v1+cell": {
     "cellMetadata": {
      "byteLimit": 2048000,
      "rowLimit": 10000
     },
     "inputWidgets": {},
     "nuid": "447d06f8-d28a-4617-ab27-4c1076ddc820",
     "showTitle": true,
     "title": "Histogram for the labels"
    }
   },
   "outputs": [
    {
     "output_type": "display_data",
     "data": {
      "image/png": "[encoded data removed]"
     },
     "metadata": {
      "application/vnd.databricks.v1+output": {
       "addedWidgets": {},
       "arguments": {},
       "data": "data:image/png;base64,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\n",
       "datasetInfos": [],
       "metadata": {},
       "removedWidgets": [],
       "type": "image"
      }
     },
     "output_type": "display_data"
    }
   ],
   "source": [
    "df.toPandas()[\"label\"].hist()\n",
    "plt.title('histogram showing distribution of labels')\n",
    "plt.xlabel('labels')\n",
    "plt.show()"
   ]
  },
  {
   "cell_type": "markdown",
   "metadata": {
    "application/vnd.databricks.v1+cell": {
     "cellMetadata": {
      "byteLimit": 2048000,
      "rowLimit": 10000
     },
     "inputWidgets": {},
     "nuid": "72b52612-5b1c-4726-bb81-ac7aaad87439",
     "showTitle": false,
     "title": ""
    }
   },
   "source": [
    "#Pre-Processing"
   ]
  },
  {
   "cell_type": "code",
   "execution_count": 0,
   "metadata": {
    "application/vnd.databricks.v1+cell": {
     "cellMetadata": {
      "byteLimit": 2048000,
      "rowLimit": 10000
     },
     "inputWidgets": {},
     "nuid": "70b7ed14-b82b-4f0b-be5b-1f83a8eb720c",
     "showTitle": true,
     "title": "Removing outliers"
    }
   },
   "outputs": [
    {
     "output_type": "stream",
     "name": "stdout",
     "output_type": "stream",
     "text": [
      "Out[8]: DataFrame[address: string, year: int, day: int, length: int, weight: double, count: int, looped: int, neighbors: int, income: double, label: string]"
     ]
    }
   ],
   "source": [
    "#Removing outliers using z-mean\n",
    "means = df.select([F.mean(F.col(c)).alias(c) for c in df.columns]).collect()[0].asDict()\n",
    "std_dev = df.select([F.stddev(F.col(c)).alias(c) for c in df.columns]).collect()[0].asDict()\n",
    "for column in df.columns[1:-1]:\n",
    "  cleaned_df = df.filter(F.abs(F.col(column) - means[column]) / std_dev[column] <= 3)\n",
    "cleaned_df.cache()\n",
    "df.unpersist()"
   ]
  },
  {
   "cell_type": "code",
   "execution_count": 0,
   "metadata": {
    "application/vnd.databricks.v1+cell": {
     "cellMetadata": {
      "byteLimit": 2048000,
      "rowLimit": 10000
     },
     "inputWidgets": {},
     "nuid": "4ae4538c-8851-4377-ba3c-f2be2cfe923f",
     "showTitle": true,
     "title": "Boxplot after removing some outliers using z score"
    }
   },
   "outputs": [
    {
     "output_type": "display_data",
     "data": {
      "image/png": "[encoded data removed]"
     },
     "metadata": {
      "application/vnd.databricks.v1+output": {
       "addedWidgets": {},
       "arguments": {},
       "data": "data:image/png;base64,iVBORw0KGgoAAAANSUhEUgAAAWoAAAE+CAYAAACkx1oCAAAAOXRFWHRTb2Z0d2FyZQBNYXRwbG90bGliIHZlcnNpb24zLjUuMSwgaHR0cHM6Ly9tYXRwbG90bGliLm9yZy/YYfK9AAAACXBIWXMAAAsTAAALEwEAmpwYAAAgPUlEQVR4nO3deZxcVZ3+8c+TEAmmWQVbZYuAoAzK0sCMgg4RUFwQR8GFRR1xoqMiLujPhRFEHUcdF0QdQYWAGCOCy09UkIFmExQTDCEkLghhERFBtgYRiN/545xKqjtV3dXJrbqnyPN+verVVffeuvfb1V1P3Tr33HMVEZiZWbmm1F2AmZmNz0FtZlY4B7WZWeEc1GZmhXNQm5kVzkFtZlY4B7WtFkkhabuK1jUo6VJJ90v6TBXr7IYqf2ezyXBQ9zlJyyT9VdKIpLsl/UjSlnXX1SDpDZIun2Cx2cCdwAYR8Z4elNV1ko6X9Ej+uzRu76tgnWdWVaP1Dwf1Y8OBETEAPBn4E3BSzfVM1tbAkliNs68krdOFeqry7YgYaLp9qs5iCn+tbBwO6seQiHgIOBvYsTFN0oaSzpD0Z0k3STpW0hRJm0i6VdKBebkBSddLel1+PEfSVyRdkJskLpG0davtjrONZwBfAZ6d9yjvafHcOcDrgfflZfaTtK6kz0u6Ld8+L2ndvPw+ue7/J+l24LQ2Nb1R0tL8LeP85tolnSjpFkn3SVog6blN86ZK+qCk3+ffe8GYbyj7SfqdpHskfUmSOvvrrFltkg4APgi8Or9O1+TpyyTt1/T8FXvdkmbm5pojJd0MXDTe9pV8TtIdefvXStppsr+fdUFE+NbHN2AZsF++/3jgdOCMpvlnAD8A1gdmAr8FjszzXgDcDjwR+CpwdtPz5gD3A88D1gVOBC5vmh/Adh1s4w3Nz2vzO8wBPtb0+ATg57muzYArgI/mefsAjwKfzHWt12J9BwHXA88A1gGOBa5omn848IQ87z35NZie570XuBbYARCwM/CEpt/5XGAjYCvgz8ABbX6n44EzK65tlXU2//3HLpP/FpH/PjOA9cbbPvBCYEH+/ZSXeXLd/+O+RfeCGjgVuANY3MGyzwOuzm/Ag8fMOw+4Bzi37herxFt+o47k1+gR4DbgmXneVOBhYMem5d8MXNz0+KQcTH9oBFKePgeY1/R4AFgObJkfB7DdRNtg9YL698CLmx6/EFiW7++Ttzd9nPX9hPxBkR9PAR4Etm6z/N3Azvn+b4CD2iwXwN5Nj88C3t9m2eNznfc03Z6yhrUdz+oF9TadvDbA80kfsv8ETKn7f9u3lbduNn3MAQ7ocNmbSW/ouS3mfRo4opqSHrNeHhEbAdOBtwOXSHoSsCkwDbipadmbgM2bHp8C7ATMiYi7xqz3lsadiBgB/kIKm2adbGOyntJifc3b/XOkZp52tgZOzM0T95DqVqMmScfkr/735vkb5t8DYEvSB0U7tzfdf5D0AdbOWRGxUdPttjWsbXXd0nS/7fYj4iLgi8CXgDsknSJpgzXctlWga0EdEZeS/glWkLStpPNy29tlkp6el10WEYuAv7dYz4Wkr+A2gYhYHhHfJe357k3qSfEI6c3ZsBVp7xlJU0lBfQbwVq3a9WxF26ykAWAT0h57s3G3Qdqjm6xGoDWvr3m7E63zFuDNY0JyvYi4Irf5vg94FbBx/oC7lxRWjeduuxo1d2pNamv1ez9AavJqeFKLZZqf13b7ABHxhYgYIh3n2J7UFGQ16/XBxFOAo/I/wjHAl3u8/ce0fDDoIGBjYGlELCd9Pf+4pPXzQaN3A40uXh8kvYnfSPrmckYO74YXS9pb0uOAjwI/j4jmvTM62MafgC3yOjr1LeBYSZtJ2hT4cNP6OvEV4AOS/gFWHOw8JM9bn9TE9mdgHUkfBpr3Gr8GfFTS0/Lr+SxJT5jEtrtZ25+AmZKa37cLgddImiZpd+Dg1d2+pD0k/aOkaaQPgIdosfNkvdezoM57ZM8BviNpIXAyqTuZrbkfShoB7gM+Drw+Iq7L844iveluAC4nNS+dKmmIFKivy2H7SVJov79pvXOB40jfjIZIB7paabmNPO8i4Drgdkl3dvj7fAyYDywitZ9fnad1JCK+R/p95km6D1gMvCjPPp903OO3pCaVhxjdNPBZ0gfPT0mv59dJB+EqsYa1fSf/vEvS1fn+f5C+AdwNfITWzYedbn8D0kHlu/P27yJ9gFvNFNG9CwdImkk6CLhTbuv6TUS0DWelrlrnRsTZY6bvAxwTES/tWrE2Sv5b3BoRx9Zdi9narmd71BFxH3Bj09csSdq5V9s3M+tXXQtqSd8CrgR2UDpB4UjgMODI3Fn/OlKfzkbb2K3AIcDJkq5rWs9lpK98++b1vLBbNZuZlairTR9mZrbmfAq5mVnhHNRmZoXrymham266acycObPSdT7wwAPMmDGj0nVWrR9qBNdZNddZrX6osxs1Lliw4M6I2KzlzG6clz40NBRVGx4ernydVeuHGiNcZ9VcZ7X6oc5u1AjMjxrG+jAzswp01PQhaRlpvI3lwKMRsXs3izIzs5Um00Y9KyI6PQXYzMwq4qYPM7PCdXTCi6QbSQO1BHByRJzSYpnZpIuUMjg4ODRv3rxKCx0ZGWFgYLyhf+vXDzWC66ya66xWyXVeeOGFnHnmmdx8881stdVWHH744ey7776VrHvWrFkL2jYrtzvK2HwjDSoO6dJI1wDPG2959/oom+usluusVql1zp07N0g7q6Nuc+fOrWT9rGmvj4j4Q/55B/A9YM81+ugwM+szhx566KSmV2nCoJY0Q9L6jfukC6Iu7nZhZmaWdNLrYxD4nqTG8nMj4ryuVmVmZitMGNQRcQPgcaPNzGri7nlmZoVzUJuZFc5BbWZWOAe1mVnhHNRmZoVzUJuZFc5BbWZWOAe1mVnhHNRmZoVzUJuZFc5BbWZWOAe1mVnhHNRmZoVzUJuZFc5BbWZWOAe1mVnhHNRmZoVzUJuZFc5BbWZWOAe1mVnhHNRmZoVzUJuZFc5BbWZWOAe1mVnhHNRmZoVzUJuZFc5BbWZWOAe1mVnhHNRmZoVzUJuZFc5BbWZWuI6DWtJUSb+SdG43CzIzs9Ems0d9NLC0W4WYmVlrHQW1pC2AlwBf6245ZmY2Vqd71J8H3gf8vXulmJlZK4qI8ReQXgq8OCLeKmkf4JiIeGmL5WYDswEGBweH5s2bV2mhIyMjDAwMVLrOqvVDjeA6q+Y6q1VqnbNmzWo7b3h4uIr1L4iI3VvOjIhxb8AngFuBZcDtwIPAmeM9Z2hoKKo2PDxc+Tqr1g81RrjOqrnOapVaJ9D2VtH650ebTJ2w6SMiPhARW0TETOA1wEURcfiafXaYmVmn3I/azKxw60xm4Yi4GLi4K5WYmVlL3qM2Myucg9rMrHAOajOzwjmozcwK56A2Myucg9rMrHAOajOzwjmozcwK56A2Myucg9rMrHAOajOzwjmozcwK56A2Myucg9rMrHAOajOzwjmozcwK56A2Myucg9rMrHAOajOzwjmozcwK56A2Myucg9rMrHAOajOzwjmozcwK56A2Myucg9rMrHAOajOzwjmozcwK56A2Myucg9rMrHAOajOzwk0Y1JKmS7pK0jWSrpP0kV4UZmZmyTodLPM34PkRMSJpGnC5pJ9ExM+7XJuZmdFBUEdEACP54bR8i24WZWZmK3XURi1pqqSFwB3ABRHxi65WZWZmKyjtMHe4sLQR8D3gqIhYPGbebGA2wODg4NC8efMqLBNGRkYYGBiodJ1V64cawXVWzXVWq9Q6Z82a1Xbe8PBwFetfEBG7t5wZEZO6AR8GjhlvmaGhoaja8PBw5eusWj/UGOE6q+Y6q1VqnaQm35a3itY/P9pkaie9PjbLe9JIWg/YH/j1Gn98mJlZRzrp9fFk4HRJU0lt2mdFxLndLcvMzBo66fWxCNi1B7WYmVkLPjPRzKxwDmozs8I5qM3MCuegNjMrnIPazKxwDmozs8I5qM3MCuegNjMrnIPazKxwDmozs8I5qM3MCuegNjMrnIPazKxwDmozs8I5qM3MCuegNjMrnIPazKxwDmozs8I5qM3MCuegNjMrnIPazKxwDmozs8I5qM3MCuegNjMrnIPazKxwDmozs8I5qM3MCuegNjMrnIPazKxwDmozs8I5qM3MCjdhUEvaUtKwpCWSrpN0dC8KMzOzZJ0OlnkUeE9EXC1pfWCBpAsiYkmXazMzMzrYo46IP0bE1fn+/cBSYPNuF2ZmZsmk2qglzQR2BX7RlWrMzGwViojOFpQGgEuAj0fEd1vMnw3MBhgcHByaN29elXUyMjLCwMBApeusWj/UCK6zaq6zWqXWOWvWrLbzhoeHq1j/gojYveXMiJjwBkwDzgfe3cnyQ0NDUbXh4eHK11m1fqgxwnVWzXVWq9Q6gba3itY/P9pkaie9PgR8HVgaEZ9d448NMzOblE7aqPcCjgCeL2lhvr24y3WZmVk2Yfe8iLgcUA9qMTOzFnxmoplZ4RzUZmaFc1CbmRXOQW1mVjgHtZlZ4RzUZmaFc1CbmRXOQW1mVjgHtZlZ4RzUZmaFc1CbmRXOQW1mVjgHtZlZ4RzUZmaFc1CbmRXOQW1mVjgHtZlZ4RzUZmaFc1CbmRXOQW1mVjgHtZlZ4RzUZmaFc1CbmRXOQW1mVjgHtZlZ4RzUZmaFc1CbmRXOQW1mVjgHtZlZ4RzUZmaFc1CbmRXOQW1mVrgJg1rSqZLukLS4FwWZmdlonexRzwEO6HIdZmbWxoRBHRGXAn/pQS1mZtaCImLihaSZwLkRsdM4y8wGZgMMDg4OzZs3r6oaARgZGWFgYKDSdVatH2oE11k111mtUuucNWtW23nDw8NVrH9BROzecmZETHgDZgKLO1k2IhgaGoqqDQ8PV77OqvVDjRGus2qus1ql1gm0vVW0/vnRJlPd68PMrHAOajOzwnXSPe9bwJXADpJulXRk98syM7OGdSZaICJe24tCzMysNTd9mJkVzkFtZlY4B7WZWeEc1GZmhXNQm5kVzkFtZlY4B7WZWeEc1GZmhXNQm5kVzkFtZlY4B7WZWeEc1GZmhXNQm5kVzkFtZlY4B7WZWeEc1GZmhXNQm5kVzkFtZlY4B7WZWeEc1GZmhXNQm5kVzkFtZlY4B7WZWeEc1GZmhXNQm5kVzkFtZlY4B7WZWeEc1GZmhXNQm5kVzkFtZlY4B7WZWeHW6WQhSQcAJwJTga9FxH91tSpbq0laZVpE1FDJ+FxntfqlzjpMuEctaSrwJeBFwI7AayXt2O3CbO3U6s063vS6uM5q9Uuddemk6WNP4PqIuCEiHgbmAQd1tyxb20UEw8PDxe9Ruc5qlVinpAk/MBrLdOuDRRO9IJIOBg6IiDflx0cA/xgRbx+z3GxgNsDg4ODQvHnzJtz4UTcdtZplj++krU+qdH2uc+2rsx9qBNf5WKpz1qxZCyJi95YzI2LcG3AwqV268fgI4IvjPWdoaCiqNjw8XPk6q9YPNUaUXScQ6d9yZZ3N00rhOqvVD3U26ml1q2j986NNpnZyMPEPwJZNj7fI08y6pl/aJl1ntUquMyJqO+DZSRv1L4GnSXqqpMcBrwH+f3fLsrVVu3/6XrwZJsN1Vquf6oymdvRe1TdhUEfEo8DbgfOBpcBZEXFdtwuztVddb4bJcp3V6pc669BRP+qI+DHw4y7XYmZmLfjMRDOzwjmozcwK56A2Myucg9rMrHATnpm4WiuV/gzcVPFqNwXurHidVeuHGsF1Vs11Vqsf6uxGjVtHxGatZnQlqLtB0vxod3plIfqhRnCdVXOd1eqHOntdo5s+zMwK56A2MytcPwX1KXUX0IF+qBFcZ9VcZ7X6oc6e1tg3bdRmZmurftqjNjNbKzmozcwK56A2MytckUEtaYqk59RdRyfyxX+tApKO7mSaPXZJ2ljSs+quozTFHkyU9KuI2LXuOiYi6QbgHOC0iFhSdz3jyR8qgzQNbxsRN9dX0WiSro6I3cZMK+7/QNKFEbHvRNPqJOmHpMtEtRQRL+thOeOSdDHwMtL/5QLgDuBnEfHuOusaS9L2wP8AgxGxU/5AeVlEfKzb2+5oPOqaXCjplcB3o9RPk2Rn0lVvviZpCnAqMC8i7qu3rNEkHQUcB/wJ+HueHEDtey+SXgscCjxVUvPVg9YH/lJPVauSNB14PLCppI2BxnWZNgA2r62w1v47/3wF8CTgzPz4taT/gZJsGBH3SXoTcEZEHCdpUd1FtfBV4L3AyQARsUjSXKDrQV3yHvX9wAzgUeAh0psiImKDWgsbh6R/BuYCGwFnAx+NiOtrLSqTdD3p6vF31V3LWJK2Bp4KfAJ4f9Os+4FF+SpDtcvNMO8EnkK6bmgjqO8DvhoRX6yptLZanepc2inakq4FXgCcDnwoIn4paVFE1L4T0UzSLyNij+ZveZIWRsQu3d52sXvUEbF+3TV0IjcnvAT4V2Am8Bngm8BzSVfF2b624ka7Bbi37iJaiYibSIN4PbvuWsYTEScCJ0o6KiJOqrueDs2QtE1E3AAg6amkHaCSfIR0qb/Lc0hvA/yu5ppauVPStuQmJUkHA3/sxYaL3aOGdGABeBowvTEtIi6tr6JV5TbqYeDrEXHFmHlfiIh31FPZihoa7Xz/AOwA/Aj4W2N+RHy2jrpakfQK4JPAE0l7q8V+i8oHu2cyur3/jNoKakPSAaSz6G4gvZ5bA2+OiPNrLSzLOzrviIjP1V3LRPIHyCnAc4C7gRuBwyNiWde3XWpQ5/aqo4EtgIXAPwFXRsTz66xrLEkDETFSdx3tSDpunNkRESf0rJgJ5OaZAyNiad21jEfSN4BtSf+Xy/PkqPtDuR1J6wJPzw9/HRF/G2/5XpN0VUTsWXcdnZI0A5gSEff3bJsFB/W1wB7AzyNiF0lPB/4zIl5Rc2mj5ANMR5L2WJv3/N9YW1EtSDokIr4z0bQ6SfpZROxVdx0TkbQU2LHwg9wASHo88G7SWMf/JulpwA4RcW7Npa0g6XPANODbwAON6RFxdW1FtSBpI+B1rPpNqusf0MW2UQMPRcRDkpC0bkT8WtIOdRfVwjeAXwMvBE4ADgNK3CP8ADA2lFtN67nc5AEwX9K3ge8zunnmu3XUNY7FpJ4UPWmfXEOnkbq8Ndr//0D6mxcT1MAu+Wfzt7sAivr2TDrm9HPgWlb2nOqJkoP61vwJ9n3gAkl3U/1VY6qwXUQcIumgiDg9d9e5rO6iGiS9CHgxsLmkLzTN2oDUo6YEBzbdf5DUA6AhgNKCelNgiaSrGP2BUkzf5CbbRsSrcxdIIuJBSZroSb0UEbPqrqFD0+vq211sUEfEv+S7x0saBjYEzquxpHYeyT/vkbQTcDvpYFgpbgPmk04oWNA0/X7gXbVUNEZE/GvdNUzS8XUXMAkPS1qPlT0VtqXpw6UEkjYk9fF/Xp50CXBCRJTWS+kbkv6N9G2k+QO66339i22jBpC0N/C0iDhN0mbAQETcWHddzfJBz3OAZwJzgAHgPyLi5DrrGkvStIh4ZOIl6zNmj7/hXmB+RPyg1/U8FkjaHzgW2BH4KbAX8IaIuLjOuppJOofUnHR6nnQEsHOBx6PeBnwcuIeVZ31GRGzT9W2XGtS5t8LupAMf20t6CvCdUg42NXV7GzU5/4ySur3BioOzY//Y95L2tj9Wwokwkk4h9U5otJu/ktQF6gnADRHxzppKGyWfjNV4LR9HOhD2QIndCAEkPYHUa0qkg/NFXTi21UkjvTqRZDJyV9w963j9im36AP4F2BW4GiAibpNU0kkwjVp2IPVOaZz6fCBwVS0Vje8npK5kc/Pj15BOh76d9E3gwNZP66lnAXtFxHIASf9Dau/fm3QApwjNJ2Pl9t6DSEFYqn8mvYZB+lD5Xr3lrOKvkvaOiMsBJO0F/LXmmlq5nnQMpedKDuqHIyIkNdrWijqbKiI+AiDpUmC3Rp9KSceTTiopzX5jBjy6tjEIkqTDa6tqtI1JTUeNtskZwCYRsVxSUe2qDbmL3vfzN8D3T7R8r0n6MrAd8K086c2S9ouIt9VY1lj/Dpye26pFGt/l9fWW1NIDwMJ8zKy5jXqt7p53lqSTgY1yA/4bSYOilGYQeLjp8cN5WmmmStozIq4CkLQH0BiitZTeH58ivREuJr1hnwf8Z/6Q/t86C2vW1J0Q0lDBu5PGoynR84FnNPp8SzoduK7ekkaLiIXAzpI2yI+LGtCsyffzredKDuqHSW/O+0jNCx+OiAvqLamlM4CrJDW+Tr6c1JRQmjcBp0oaIIXgfcCbcgh+otbKsoj4uqQfA42z1D4YEbfl+++tqaxWmpuJHgWWkZo/SnQ9sBUru7ZumacVI7ehH0dunpF0OanXR+3HTZrl7rePY+X4Pb/p1QH6kg8mfozUjno1aejQ80s9E0zSbqRBmAAujYhf1VnPePLXS0rq+iTp6fmEpt1azS/tDLV+IukS0jGUxnGTPUgHkO+FMvp+S7oAuJSVQ7EeBuwTEfvVV9WqJO1D6pmyjLSzsyXw+l6MP1RsUMOKAzUvII1MtztwFmnwo9/XWlgfyuM9vJJVT3+tfawPSadExOzc9jdWFDi+yxbASaSubpAOeB4dEbfWV1VrSkPvthURl/SqlnYkLY6IncZMuzYinllXTa1IWgAcGhG/yY+3B74VEUPd3nbJTR/kg4m3k3omPEo62HS2pAsi4n31Vtd3fkDai1pAYSc8RMTs/LNfzlA7jdR75pD8+PA8bf/aKmojIi6RNEjakwa4KiLuqLOmFn4q6TWkHTGAg0nDnpZmWiOkASLit5Km9WLDxe5RKw3S/jrgTuBrwPcj4hGlq6j8LiK2rbXAPtNqr6U0TQMIbZX3sIsbQAj6p98vgKRXAZ8GLiZ9XX8u8N6IOLvOumBUf3SRevg0xs+YAoyU1i9d0qmkGpubaKb2YgC2kveoNwFeEWlQ+RUi4u+SXlpTTf3sCknPjIhi+iO30BhAqHFh4xIHEAK4K3dpbHR5ey1Q1IGvJh8C9mjsReczfP+XdAWiWkWfXBykyb8DbwMa3fEuA77ciw0Xu0dt1ZK0hNSf9kZS00djUP5iLnekfIkojb7U0TURsXPdtTVTunTYSaQR6QK4AjgqIm6ptbAWxrb15m+k1xTY/rs56aIGzcdPSrtIyAzSqJ6NE7KmAutGRNdPgil5j9qq9aK6C+hA8QMIZSeQjvbfDSBpE9LFZIsagzw7T9L5rNz7fzVpuM5iSPokqa4lNF2IgdQTpCQXAvsBjQuFrEcaP+U5bZ9REQf1WiIibmo1yFXddY1xHGmExC0lfZM8gFCtFbX2rEZIQxo9TdKudRbUTkS8N5+gs3eedEpElHYK+ctJxyJK/FBuNj2aruYUESP5uErXOajXEs2DXJHagqeRDooUMchV9nrS6fdnk67xd3RpAwhlUyRtPGaPuuT30s9Iw/EGZY5DcwPp/7H0oH5A0m6Nfv2ShujRmCQl/3NZtUof5Arg66ReCfuTrkn4K0mXRrr6d0k+A1wpqTHK3yGk4S+L06LXx0mSSun1cRLpw+NB0tABF9LjMTQm6Z3AdyTdRnotn0Rqsuk6H0xcSyhfQLRpIKYZpIsFF3MwEVYcoNkDmAW8BfhrRDx9/Gf1nqQdWXmpqIsiYkmd9bQj6Rpg/7G9Pko4QCtp3IGXIuL08ebXIfebblwSsGenkHuPeu1R/CBXeY9qBnAlqevTim5lpcnBXGQ4jzFlzGt4F6mfcu1KDOIO7MHKs3t3k0REnNHtjTqo1xIR8d9KV/soeZCrRcAQsBPpLMp7JF0ZESWOTdwv+qHXR/EXtQCQ9A1Sk9xCRvdO6XpQu+nDipPbzt8AHAM8KSLWrbei/ibplTSNS1Jarw9Jn6L9RS32jogSLmqBpKXAjnUMDuegfozT6MtGjZpFOuGlmNN0Jb2ddDBxiDRC2WWkYLmozrqsuxrHTVpNK2lwpnzw+B0R8cdeb9tNH49xfXaa7nTgs8CCiCjlYgZ9qZ8+oOmPi1oAbAoskXQVo3undH2oWO9Rm1mtcjCfSjoBa8VFLUhXonlJRJw1ztN7pt2Qsb0YKtZBbWZFKPGiFqVwUJtZLSQdHhFnSnp3q/kR8dle19SKpMsjYu8WzUk9a0ZyG7WZ1WVG/ln0cZSI2Dv/rK1O71GbmRWuiDOUzGztJWl7SRdKWpwfP0vSsXXXVRIHtZnV7avAB0gj/BERi0gnvVjmoDazuj2+0Ye6SUn9p2vnoDazut2Zr+bTuLLPwUDPz/4rmQ8mmlmtJG0DnEK6pNXdpOt6Hjb2wtZrMwe1mdVK0rrAwaThQzchnZkYEXFCnXWVxP2ozaxuPwDuIV196LZ6SymT96jNrFaSFkfETnXXUTIfTDSzul0hqYihTEvlPWozq5WkJcB2pIOIf2PlGBpFXc+zTg5qM6uVpK1bTXevj5Uc1GZmhXMbtZlZ4RzUZmaFc1Bb8SS9Q9JSSd+c5PNmSjq0W3WZ9YqD2vrBW4H9I+KwST5vJjDpoJY0deKlzHrHQW1Fk/QVYBvgJ5I+JOlUSVdJ+pWkg/IyMyVdJunqfHtOfvp/Ac+VtFDSuyS9QdIXm9Z9rqR98v0RSZ+RdA3wbEmH5+0slHSypKn5NkfSYknXSnpXT18MW2s5qK1oEfEW0mnFs0iXbrooIvbMjz8taQZwB2mPezfg1cAX8tPfD1wWEbtExOcm2NQM4BcRsTNwV17PXhGxC7AcOAzYBdg8InaKiGcCp1X3m5q157E+rJ+8AHiZpGPy4+nAVqQg/6KkXUihuv1qrHs5cE6+vy8wBPxSEsB6pA+DHwLbSDoJ+BHw09X7Ncwmx0Ft/UTAKyPiN6MmSscDfwJ2Jn1LfKjN8x9l9LfI6U33H4qI5U3bOT0iPrBKAdLOwAuBtwCvAt44+V/DbHLc9GH95HzgKOXdXEm75ukbAn+MiL8DRwCNg4H3M/oK18uAXSRNkbQlsGeb7VwIHCzpiXk7m0jaWtKmwJSIOAc4Ftitul/NrD3vUVs/+SjweWCRpCmksSFeCnwZOEfS64DzgAfy8ouA5fkA4Zz83BuBJcBS0rCaq4iIJfniqj/N23kEeBvwV+C0PA3Sdf7Mus6nkJuZFc5NH2ZmhXNQm5kVzkFtZlY4B7WZWeEc1GZmhXNQm5kVzkFtZlY4B7WZWeH+D8TXgiNwNhjsAAAAAElFTkSuQmCC\n",
       "datasetInfos": [],
       "metadata": {},
       "removedWidgets": [],
       "type": "image"
      }
     },
     "output_type": "display_data"
    }
   ],
   "source": [
    "cleaned_df.toPandas().boxplot(rot=90)\n",
    "plt.title('Boxplot for each Features')\n",
    "plt.suptitle('')\n",
    "plt.xlabel('features')\n",
    "plt.show()"
   ]
  },
  {
   "cell_type": "code",
   "execution_count": 0,
   "metadata": {
    "application/vnd.databricks.v1+cell": {
     "cellMetadata": {
      "byteLimit": 2048000,
      "rowLimit": 10000
     },
     "inputWidgets": {},
     "nuid": "6d182ba9-c0bb-4e78-a93f-11174da98a12",
     "showTitle": false,
     "title": ""
    }
   },
   "outputs": [
    {
     "output_type": "stream",
     "name": "stdout",
     "output_type": "stream",
     "text": [
      "+--------------------+----+---+------+-------------------+-----+------+---------+--------+---------+\n|             address|year|day|length|             weight|count|looped|neighbors|  income|    label|\n+--------------------+----+---+------+-------------------+-----+------+---------+--------+---------+\n|111K8kZAEnJg245r2...|2017| 11|    18|0.00833333333333333|    1|     0|        2|1.0005E8|princeton|\n|1123pJv8jzeFQaCV4...|2016|132|    44|      2.44140625E-4|    1|     0|        1|   1.0E8|princeton|\n|112536im7hy6wtKbp...|2016|246|     0|                1.0|    1|     0|        2|   2.0E8|princeton|\n|1126eDRw2wqSkWosj...|2016|322|    72|         0.00390625|    1|     0|        2|  7.12E7|princeton|\n|1129TSjKtx65E35Gi...|2016|238|   144| 0.0728484071989931|  456|     0|        1|   2.0E8|princeton|\n+--------------------+----+---+------+-------------------+-----+------+---------+--------+---------+\nonly showing top 5 rows\n\n"
     ]
    }
   ],
   "source": [
    "cleaned_df.show(5)"
   ]
  },
  {
   "cell_type": "code",
   "execution_count": 0,
   "metadata": {
    "application/vnd.databricks.v1+cell": {
     "cellMetadata": {
      "byteLimit": 2048000,
      "rowLimit": 10000
     },
     "inputWidgets": {},
     "nuid": "0a4edf31-0990-4a19-b061-fa76811f69c0",
     "showTitle": false,
     "title": ""
    }
   },
   "outputs": [
    {
     "output_type": "display_data",
     "data": {
      "text/html": [
       "<style scoped>\n",
       "  .table-result-container {\n",
       "    max-height: 300px;\n",
       "    overflow: auto;\n",
       "  }\n",
       "  table, th, td {\n",
       "    border: 1px solid black;\n",
       "    border-collapse: collapse;\n",
       "  }\n",
       "  th, td {\n",
       "    padding: 5px;\n",
       "  }\n",
       "  th {\n",
       "    text-align: left;\n",
       "  }\n",
       "</style><div class='table-result-container'><table class='table-result'><thead style='background-color: white'><tr><th>label</th><th>count</th></tr></thead><tbody><tr><td>white</td><td>2872441</td></tr><tr><td>princeton</td><td>15848</td></tr><tr><td>padua</td><td>12402</td></tr><tr><td>montreal</td><td>13162</td></tr></tbody></table></div>"
      ]
     },
     "metadata": {
      "application/vnd.databricks.v1+output": {
       "addedWidgets": {},
       "aggData": [],
       "aggError": "",
       "aggOverflow": false,
       "aggSchema": [],
       "aggSeriesLimitReached": false,
       "aggType": "",
       "arguments": {},
       "columnCustomDisplayInfos": {},
       "data": [
        [
         "white",
         2872441
        ],
        [
         "princeton",
         15848
        ],
        [
         "padua",
         12402
        ],
        [
         "montreal",
         13162
        ]
       ],
       "datasetInfos": [],
       "dbfsResultPath": null,
       "isJsonSchema": true,
       "metadata": {},
       "overflow": false,
       "plotOptions": {
        "customPlotOptions": {},
        "displayType": "table",
        "pivotAggregation": null,
        "pivotColumns": null,
        "xColumns": null,
        "yColumns": null
       },
       "removedWidgets": [],
       "schema": [
        {
         "metadata": "{}",
         "name": "label",
         "type": "\"string\""
        },
        {
         "metadata": "{}",
         "name": "count",
         "type": "\"long\""
        }
       ],
       "type": "table"
      }
     },
     "output_type": "display_data"
    }
   ],
   "source": [
    "display(cleaned_df.groupBy('label').count())"
   ]
  },
  {
   "cell_type": "markdown",
   "metadata": {
    "application/vnd.databricks.v1+cell": {
     "cellMetadata": {
      "byteLimit": 2048000,
      "rowLimit": 10000
     },
     "inputWidgets": {},
     "nuid": "952bd142-602e-4cf8-9694-59e8c5d18698",
     "showTitle": false,
     "title": ""
    }
   },
   "source": [
    "#Decision Tree without Oversample"
   ]
  },
  {
   "cell_type": "code",
   "execution_count": 0,
   "metadata": {
    "application/vnd.databricks.v1+cell": {
     "cellMetadata": {},
     "inputWidgets": {},
     "nuid": "ceeb9cab-2d3e-49b8-9d26-bd5517ccefdc",
     "showTitle": true,
     "title": "Method to save the pipeline"
    }
   },
   "outputs": [],
   "source": [
    "def savePipeline(pipeline,name):\n",
    "  basePath = \"/mnt/team14/\"\n",
    "  pipeline.save(basePath + name)"
   ]
  },
  {
   "cell_type": "code",
   "execution_count": 0,
   "metadata": {
    "application/vnd.databricks.v1+cell": {
     "cellMetadata": {
      "byteLimit": 2048000,
      "rowLimit": 10000
     },
     "inputWidgets": {},
     "nuid": "f301a233-05a7-4168-b299-2b0746a23e04",
     "showTitle": false,
     "title": ""
    }
   },
   "outputs": [
    {
     "output_type": "stream",
     "name": "stdout",
     "output_type": "stream",
     "text": [
      "Out[9]: ['white', 'princeton', 'montreal', 'padua']"
     ]
    }
   ],
   "source": [
    "feature_cols = cleaned_df.columns[1:]\n",
    "feature_cols.remove('label')\n",
    "train,test = cleaned_df.randomSplit([0.7,0.3],seed=7)\n",
    "vectorAssembler = VectorAssembler(inputCols=feature_cols,outputCol=\"vectorised\")\n",
    "standardScaler = StandardScaler(inputCol=\"vectorised\",outputCol=\"features\")\n",
    "label_stringIdx = StringIndexer(inputCol='label',outputCol='idxLabel')\n",
    "labelTransformer = label_stringIdx.fit(train)\n",
    "train = labelTransformer.transform(train)\n",
    "test = labelTransformer.transform(test)\n",
    "train.cache()\n",
    "test.cache()\n",
    "labelTransformer.labels"
   ]
  },
  {
   "cell_type": "code",
   "execution_count": 0,
   "metadata": {
    "application/vnd.databricks.v1+cell": {
     "cellMetadata": {
      "byteLimit": 2048000,
      "rowLimit": 10000
     },
     "inputWidgets": {},
     "nuid": "60a3d8ab-09df-46a0-ab1f-5b70b38f547e",
     "showTitle": false,
     "title": ""
    }
   },
   "outputs": [],
   "source": [
    "evaluator = MulticlassClassificationEvaluator(labelCol='idxLabel',metricName='f1')"
   ]
  },
  {
   "cell_type": "code",
   "execution_count": 0,
   "metadata": {
    "application/vnd.databricks.v1+cell": {
     "cellMetadata": {
      "byteLimit": 2048000,
      "rowLimit": 10000
     },
     "inputWidgets": {},
     "nuid": "b5adcf24-50cb-4d4b-886d-6c565e9d0e6d",
     "showTitle": true,
     "title": "Training Decision Tree without Oversampling"
    }
   },
   "outputs": [],
   "source": [
    "dt_noOversample = DecisionTreeClassifier(featuresCol = 'features',labelCol = 'idxLabel')\n",
    "evaluator.setMetricName('f1')\n",
    "paramGrid_dt_noOversample = ParamGridBuilder().addGrid(dt_noOversample.maxDepth,[17,20,22])\\\n",
    "                                 .build()\n",
    "cv_dt_noOversample = CrossValidator(estimator=dt_noOversample,estimatorParamMaps=paramGrid_dt_noOversample,evaluator = evaluator,numFolds=5)\n",
    "pipeline_dt_noOversample = Pipeline(stages=[vectorAssembler,standardScaler,cv_dt_noOversample])\n",
    "pipeline_dtModel_noOversample = pipeline_dt_noOversample.fit(train)\n",
    "# pipeline_dtModel_noOversample = PipelineModel.load(\"/mnt/team14/MulticlassModel-FinalDTwithoutOversample\")"
   ]
  },
  {
   "cell_type": "code",
   "execution_count": 0,
   "metadata": {
    "application/vnd.databricks.v1+cell": {
     "cellMetadata": {
      "byteLimit": 2048000,
      "rowLimit": 10000
     },
     "inputWidgets": {},
     "nuid": "e5fa7ccb-b8b8-4908-a17b-8c48b91a72fb",
     "showTitle": false,
     "title": ""
    }
   },
   "outputs": [
    {
     "output_type": "stream",
     "name": "stdout",
     "output_type": "stream",
     "text": [
      "True positive rate for White: 0.9980142634147474\nTrue positive rate for Princeton: 0.3248175182481752\nTrue positive rate for Montreal: 0.23675702561551853\nTrue positive rate for Padua: 0.1956639566395664\nAccuracy: 98.75368129114636\nOut[13]: DataFrame[address: string, year: int, day: int, length: int, weight: double, count: int, looped: int, neighbors: int, income: double, label: string, idxLabel: double]"
     ]
    }
   ],
   "source": [
    "prediction = pipeline_dtModel_noOversample.transform(test)\n",
    "evaluator.setMetricName('f1')\n",
    "f1_score = evaluator.evaluate(prediction)\n",
    "evaluator.setMetricName('accuracy')\n",
    "print(f'True positive rate for White: {evaluator.evaluate(prediction, {evaluator.metricName: \"truePositiveRateByLabel\",evaluator.metricLabel: 0.0})}')\n",
    "print(f'True positive rate for Princeton: {evaluator.evaluate(prediction, {evaluator.metricName: \"truePositiveRateByLabel\",evaluator.metricLabel: 1.0})}')\n",
    "print(f'True positive rate for Montreal: {evaluator.evaluate(prediction, {evaluator.metricName: \"truePositiveRateByLabel\",evaluator.metricLabel: 2.0})}')\n",
    "print(f'True positive rate for Padua: {evaluator.evaluate(prediction, {evaluator.metricName: \"truePositiveRateByLabel\",evaluator.metricLabel: 3.0})}')\n",
    "accuracy = evaluator.evaluate(prediction)\n",
    "print(f'Accuracy: {accuracy*100}')\n",
    "train.unpersist()\n",
    "test.unpersist()"
   ]
  },
  {
   "cell_type": "markdown",
   "metadata": {
    "application/vnd.databricks.v1+cell": {
     "cellMetadata": {},
     "inputWidgets": {},
     "nuid": "843fc2b8-5940-47e4-ba78-1bd27f03e342",
     "showTitle": false,
     "title": ""
    }
   },
   "source": [
    "As we know the dataset was highly imbalanced where only one class (white) was taking 98.6% of the dataste and the remaining 3 classes only took 1.4% it is safe to say that obtaining high accuracy is very easy as if our model ends up classifying every datapoint as white class, it will still achieve an accuracy of 98.6%. To further prove that, we calculated true positive rate class-wise and every class besides white performed poorly even though the overall accuracy is very high. Hence we should deal with this dataset imbalance by smote-enn and then use suitable evaluation measures on it"
   ]
  },
  {
   "cell_type": "code",
   "execution_count": 0,
   "metadata": {
    "application/vnd.databricks.v1+cell": {
     "cellMetadata": {
      "byteLimit": 2048000,
      "rowLimit": 10000
     },
     "inputWidgets": {},
     "nuid": "967f9e76-9748-48e3-a0d7-cdbd4fb22826",
     "showTitle": true,
     "title": "Saving the model"
    }
   },
   "outputs": [],
   "source": [
    "savePipeline(pipeline_dtModel_noOversample,\"MulticlassModel-FinalDTwithoutOversample\")"
   ]
  },
  {
   "cell_type": "markdown",
   "metadata": {
    "application/vnd.databricks.v1+cell": {
     "cellMetadata": {
      "byteLimit": 2048000,
      "rowLimit": 10000
     },
     "inputWidgets": {},
     "nuid": "a755cbf6-fc31-4503-9a2c-218dea08f6dc",
     "showTitle": false,
     "title": ""
    }
   },
   "source": [
    "##Over-sampling (SMOTE-ENN)\n",
    "###Using Pandas and Sci-kit learn library"
   ]
  },
  {
   "cell_type": "code",
   "execution_count": 0,
   "metadata": {
    "application/vnd.databricks.v1+cell": {
     "cellMetadata": {
      "byteLimit": 2048000,
      "rowLimit": 10000
     },
     "inputWidgets": {},
     "nuid": "027f0b47-1faa-413e-974f-876c1d41ad01",
     "showTitle": true,
     "title": "Converting features and label into Panda's Dataframe"
    }
   },
   "outputs": [],
   "source": [
    "# https://towardsdatascience.com/building-an-ml-application-with-mllib-in-pyspark-part-1-ac13f01606e2\n",
    "data_cols = cleaned_df.columns[:-1]\n",
    "X = cleaned_df.toPandas().filter(items = data_cols)\n",
    "Y = cleaned_df.select('label').toPandas()\n",
    "cleaned_df.unpersist()\n",
    "X.shape, Y.shape"
   ]
  },
  {
   "cell_type": "code",
   "execution_count": 0,
   "metadata": {
    "application/vnd.databricks.v1+cell": {
     "cellMetadata": {
      "byteLimit": 2048000,
      "rowLimit": 10000
     },
     "inputWidgets": {},
     "nuid": "8cc1e9b9-e41d-4428-afd0-e4209e8f9769",
     "showTitle": true,
     "title": "Perform train test split before oversampling"
    }
   },
   "outputs": [],
   "source": [
    "overSampler = SMOTEENN(enn=EditedNearestNeighbours(sampling_strategy='all'))\n",
    "x_train,x_test,y_train,y_test = train_test_split(X,Y,test_size=0.3,random_state=7,stratify=Y)"
   ]
  },
  {
   "cell_type": "code",
   "execution_count": 0,
   "metadata": {
    "application/vnd.databricks.v1+cell": {
     "cellMetadata": {
      "byteLimit": 2048000,
      "rowLimit": 10000
     },
     "inputWidgets": {},
     "nuid": "9c992408-992a-4526-be37-2571231c0857",
     "showTitle": true,
     "title": "Oversampling on train set"
    }
   },
   "outputs": [],
   "source": [
    "x_train = x_train.drop('address',axis=1)\n",
    "x_train_res, y_train_res = overSampler.fit_resample(x_train,y_train)"
   ]
  },
  {
   "cell_type": "code",
   "execution_count": 0,
   "metadata": {
    "application/vnd.databricks.v1+cell": {
     "cellMetadata": {
      "byteLimit": 2048000,
      "rowLimit": 10000
     },
     "inputWidgets": {},
     "nuid": "34dd3260-7298-4df9-80ea-994ae9f9c29d",
     "showTitle": true,
     "title": "Check number of each label"
    }
   },
   "outputs": [],
   "source": [
    "y_train_res.value_counts()"
   ]
  },
  {
   "cell_type": "code",
   "execution_count": 0,
   "metadata": {
    "application/vnd.databricks.v1+cell": {
     "cellMetadata": {
      "byteLimit": 2048000,
      "rowLimit": 10000
     },
     "inputWidgets": {},
     "nuid": "843b7b56-1495-47f6-bf33-0a51502ae0e0",
     "showTitle": true,
     "title": "Converting from array back to data-frame"
    }
   },
   "outputs": [],
   "source": [
    "dataframe1 = pd.DataFrame(x_train_res,columns=data_cols)\n",
    "dataframe2 = pd.DataFrame(y_train_res,columns=['label'])"
   ]
  },
  {
   "cell_type": "code",
   "execution_count": 0,
   "metadata": {
    "application/vnd.databricks.v1+cell": {
     "cellMetadata": {
      "byteLimit": 2048000,
      "rowLimit": 10000
     },
     "inputWidgets": {},
     "nuid": "ef5f8f43-c959-4ee9-8076-3ac023747323",
     "showTitle": true,
     "title": "Give ID to both the data-frames so that can be joined together"
    }
   },
   "outputs": [],
   "source": [
    "x_train = dataframe1.reset_index()\n",
    "y_train = dataframe2.reset_index()\n",
    "x_test = x_test.reset_index()\n",
    "y_test = y_test.reset_index()"
   ]
  },
  {
   "cell_type": "code",
   "execution_count": 0,
   "metadata": {
    "application/vnd.databricks.v1+cell": {
     "cellMetadata": {
      "byteLimit": 2048000,
      "rowLimit": 10000
     },
     "inputWidgets": {},
     "nuid": "82ddca93-3e04-42ba-93d8-9ee573ba9e07",
     "showTitle": true,
     "title": "Concatenate the features and label back to 2 data-frame which are train set and test set"
    }
   },
   "outputs": [],
   "source": [
    "train = pd.concat([x_train,y_train],axis=1)\n",
    "test = pd.concat([x_test,y_test],axis=1)\n",
    "train = train.drop(train.columns[:1],axis=1)\n",
    "test = test.drop(test.columns[:1],axis=1)"
   ]
  },
  {
   "cell_type": "code",
   "execution_count": 0,
   "metadata": {
    "application/vnd.databricks.v1+cell": {
     "cellMetadata": {
      "byteLimit": 2048000,
      "rowLimit": 10000
     },
     "inputWidgets": {},
     "nuid": "db183e1e-968e-4a88-829b-199a38ab4b7a",
     "showTitle": true,
     "title": "Converting from panda data-frame back to spark SQL data-frame"
    }
   },
   "outputs": [],
   "source": [
    "train_df=spark.createDataFrame(train) \n",
    "test_df = spark.createDataFrame(test)"
   ]
  },
  {
   "cell_type": "code",
   "execution_count": 0,
   "metadata": {
    "application/vnd.databricks.v1+cell": {
     "cellMetadata": {
      "byteLimit": 2048000,
      "rowLimit": 10000
     },
     "inputWidgets": {},
     "nuid": "efff9b17-aaf8-4f4a-b1fd-a258fdca93a5",
     "showTitle": true,
     "title": "Save the train and test data-frame so it is easy to access "
    }
   },
   "outputs": [],
   "source": [
    "train_df.write.format(\"csv\").save(\"/mnt/team14/data/train_data\")\n",
    "test_df.write.format(\"csv\").save(\"/mnt/team14/data/test_data\")"
   ]
  },
  {
   "cell_type": "markdown",
   "metadata": {
    "application/vnd.databricks.v1+cell": {
     "cellMetadata": {
      "byteLimit": 2048000,
      "rowLimit": 10000
     },
     "inputWidgets": {},
     "nuid": "657d0919-ac39-4a91-acde-acc5665d9a80",
     "showTitle": false,
     "title": ""
    }
   },
   "source": [
    "#Train Test Loading"
   ]
  },
  {
   "cell_type": "code",
   "execution_count": 0,
   "metadata": {
    "application/vnd.databricks.v1+cell": {
     "cellMetadata": {
      "byteLimit": 2048000,
      "rowLimit": 10000
     },
     "inputWidgets": {},
     "nuid": "e3f8ae2e-20be-4c3e-b9fa-ada97b1ffa9b",
     "showTitle": true,
     "title": "Load the train and test data"
    }
   },
   "outputs": [],
   "source": [
    "train_df = spark.read.csv(\"/mnt/team14/data/train_data\",inferSchema=True)\n",
    "test_df = spark.read.csv(\"/mnt/team14/data/test_data\",inferSchema=True)\n",
    "column_name = ['address','year','day','length','weight','count','looped','neighbour','income','label']\n",
    "train_df = train_df.withColumnRenamed('_c0',column_name[0])\\\n",
    "                   .withColumnRenamed('_c1',column_name[1])\\\n",
    "                   .withColumnRenamed('_c2',column_name[2])\\\n",
    "                   .withColumnRenamed('_c3',column_name[3])\\\n",
    "                   .withColumnRenamed('_c4',column_name[4])\\\n",
    "                   .withColumnRenamed('_c5',column_name[5])\\\n",
    "                   .withColumnRenamed('_c6',column_name[6])\\\n",
    "                   .withColumnRenamed('_c7',column_name[7])\\\n",
    "                   .withColumnRenamed('_c8',column_name[8])\\\n",
    "                   .withColumnRenamed('_c9',column_name[9])\n",
    "test_df = test_df.withColumnRenamed('_c0',column_name[0])\\\n",
    "                   .withColumnRenamed('_c1',column_name[1])\\\n",
    "                   .withColumnRenamed('_c2',column_name[2])\\\n",
    "                   .withColumnRenamed('_c3',column_name[3])\\\n",
    "                   .withColumnRenamed('_c4',column_name[4])\\\n",
    "                   .withColumnRenamed('_c5',column_name[5])\\\n",
    "                   .withColumnRenamed('_c6',column_name[6])\\\n",
    "                   .withColumnRenamed('_c7',column_name[7])\\\n",
    "                   .withColumnRenamed('_c8',column_name[8])\\\n",
    "                   .withColumnRenamed('_c9',column_name[9])"
   ]
  },
  {
   "cell_type": "code",
   "execution_count": 0,
   "metadata": {
    "application/vnd.databricks.v1+cell": {
     "cellMetadata": {
      "byteLimit": 2048000,
      "rowLimit": 10000
     },
     "inputWidgets": {},
     "nuid": "0b56f1c1-e6b2-4d34-aa18-1b0161803281",
     "showTitle": true,
     "title": "Randomise the order "
    }
   },
   "outputs": [
    {
     "output_type": "stream",
     "name": "stdout",
     "output_type": "stream",
     "text": [
      "Out[15]: DataFrame[address: string, year: double, day: double, length: double, weight: double, count: double, looped: double, neighbour: double, income: double, label: string]"
     ]
    }
   ],
   "source": [
    "train_df = train_df.orderBy(F.rand())\n",
    "test_df = test_df.orderBy(F.rand())\n",
    "train_df.cache()\n",
    "test_df.cache()"
   ]
  },
  {
   "cell_type": "markdown",
   "metadata": {
    "application/vnd.databricks.v1+cell": {
     "cellMetadata": {
      "byteLimit": 2048000,
      "rowLimit": 10000
     },
     "inputWidgets": {},
     "nuid": "8bdf8d4b-d175-4030-a70f-de144b3759b5",
     "showTitle": false,
     "title": ""
    }
   },
   "source": [
    "# Vector Assembler & Standard Scaler"
   ]
  },
  {
   "cell_type": "code",
   "execution_count": 0,
   "metadata": {
    "application/vnd.databricks.v1+cell": {
     "cellMetadata": {
      "byteLimit": 2048000,
      "rowLimit": 10000
     },
     "inputWidgets": {},
     "nuid": "a2bcf191-8970-49a7-989a-059ae0d76a55",
     "showTitle": true,
     "title": "Initialise vector assembler, standard scaler and label transform the label column "
    }
   },
   "outputs": [
    {
     "output_type": "stream",
     "name": "stdout",
     "output_type": "stream",
     "text": [
      "Out[16]: ['princeton', 'padua', 'montreal', 'white']"
     ]
    }
   ],
   "source": [
    "feature_cols = train_df.columns[1:]\n",
    "feature_cols.remove('label')\n",
    "vectorAssembler = VectorAssembler(inputCols=feature_cols,outputCol=\"vectorised\")\n",
    "standardScaler = StandardScaler(inputCol=\"vectorised\",outputCol=\"features\")\n",
    "label_stringIdx = StringIndexer(inputCol='label',outputCol='idxLabel')\n",
    "labelTransformer = label_stringIdx.fit(train_df)\n",
    "train_df = labelTransformer.transform(train_df)\n",
    "test_df = labelTransformer.transform(test_df)\n",
    "labelTransformer.labels"
   ]
  },
  {
   "cell_type": "markdown",
   "metadata": {
    "application/vnd.databricks.v1+cell": {
     "cellMetadata": {
      "byteLimit": 2048000,
      "rowLimit": 10000
     },
     "inputWidgets": {},
     "nuid": "9e5f861f-fa95-4c10-9e5a-d4a8b152ebe9",
     "showTitle": false,
     "title": ""
    }
   },
   "source": [
    "# Evaluator "
   ]
  },
  {
   "cell_type": "code",
   "execution_count": 0,
   "metadata": {
    "application/vnd.databricks.v1+cell": {
     "cellMetadata": {
      "byteLimit": 2048000,
      "rowLimit": 10000
     },
     "inputWidgets": {},
     "nuid": "86bcae79-772d-4c61-a847-e8e03c2e3e98",
     "showTitle": false,
     "title": ""
    }
   },
   "outputs": [],
   "source": [
    "evaluator = MulticlassClassificationEvaluator(labelCol='idxLabel',metricName='f1')"
   ]
  },
  {
   "cell_type": "markdown",
   "metadata": {
    "application/vnd.databricks.v1+cell": {
     "cellMetadata": {
      "byteLimit": 2048000,
      "rowLimit": 10000
     },
     "inputWidgets": {},
     "nuid": "d81a9267-712a-412c-8d85-91879cab0165",
     "showTitle": false,
     "title": ""
    }
   },
   "source": [
    "# Method to Save pipeline"
   ]
  },
  {
   "cell_type": "code",
   "execution_count": 0,
   "metadata": {
    "application/vnd.databricks.v1+cell": {
     "cellMetadata": {
      "byteLimit": 2048000,
      "rowLimit": 10000
     },
     "inputWidgets": {},
     "nuid": "d30b32df-1003-4841-9003-be3fe9591ac6",
     "showTitle": false,
     "title": ""
    }
   },
   "outputs": [],
   "source": [
    "def savePipeline(pipeline,name):\n",
    "  basePath = \"/mnt/team14/\"\n",
    "  pipeline.save(basePath + name)"
   ]
  },
  {
   "cell_type": "markdown",
   "metadata": {
    "application/vnd.databricks.v1+cell": {
     "cellMetadata": {
      "byteLimit": 2048000,
      "rowLimit": 10000
     },
     "inputWidgets": {},
     "nuid": "5036360a-bb4c-4b38-820a-2e06ac1e4cc4",
     "showTitle": false,
     "title": ""
    }
   },
   "source": [
    "#Bagging Method\n",
    "Obtained from Guest Lecture from Dr Issac Triguero in Week 8\n"
   ]
  },
  {
   "cell_type": "code",
   "execution_count": 0,
   "metadata": {
    "application/vnd.databricks.v1+cell": {
     "cellMetadata": {
      "byteLimit": 2048000,
      "rowLimit": 10000
     },
     "inputWidgets": {},
     "nuid": "b9707749-0369-4d57-98fd-b2943fcb08e3",
     "showTitle": true,
     "title": "Method to train each of the weak learner"
    }
   },
   "outputs": [],
   "source": [
    "def baggingMethod (train_features, weak_learner,bootstrap_size, maxIter=10):\n",
    "  models = []\n",
    "  for i in range(maxIter):\n",
    "    bag = train_features.sample(withReplacement=True,fraction=bootstrap_size)\n",
    "    weak_learner.setPredictionCol(f'prediction_{i}')\n",
    "    weak_learner.setProbabilityCol(f'prob_{i}')\n",
    "    weak_learner.setRawPredictionCol(f'raw_pred_{i}')\n",
    "    print(f'Model {i}')\n",
    "    models.append(weak_learner.fit(bag))\n",
    "  return models"
   ]
  },
  {
   "cell_type": "code",
   "execution_count": 0,
   "metadata": {
    "application/vnd.databricks.v1+cell": {
     "cellMetadata": {
      "byteLimit": 2048000,
      "rowLimit": 10000
     },
     "inputWidgets": {},
     "nuid": "74e7f839-077b-4355-b8f2-1a66d4ede969",
     "showTitle": true,
     "title": "Method to evaluate each of the weak learner in ensemble "
    }
   },
   "outputs": [],
   "source": [
    "def test_individual_models(test_features,models):\n",
    "  evaluator_test = MulticlassClassificationEvaluator(labelCol='idxLabel',metricName='f1')\n",
    "  for i in range(len(models)):\n",
    "    prediction = models[i].transform(test_features)\n",
    "    evaluator_test.setMetricName('f1')\n",
    "    evaluator_test.setPredictionCol(f'prediction_{i}')\n",
    "    f1 = evaluator_test.evaluate(prediction)\n",
    "    evaluator_test.setMetricName('accuracy')\n",
    "    acc = evaluator_test.evaluate(prediction)\n",
    "    print(f\"F1 Score Model {i} = {f1}\")\n",
    "    print(f\"Accuracy Score Model {i} = {acc*100}\")"
   ]
  },
  {
   "cell_type": "code",
   "execution_count": 0,
   "metadata": {
    "application/vnd.databricks.v1+cell": {
     "cellMetadata": {
      "byteLimit": 2048000,
      "rowLimit": 10000
     },
     "inputWidgets": {},
     "nuid": "9c79d98c-fe7e-4c71-973d-4e72270aad2d",
     "showTitle": true,
     "title": "A majority voting method to evaluate ensemble method "
    }
   },
   "outputs": [],
   "source": [
    "def evaluate_ensemble(model,test_features):\n",
    "  final_evaluator = MulticlassClassificationEvaluator(predictionCol='pred',labelCol='idxLabel',metricName='f1')\n",
    "  mode_udf = F.udf(mode,DoubleType())\n",
    "  prediction = model.transform(test_features)\n",
    "  ensemble = prediction.select('address',F.array([f'prediction_{i}' for i in range(10)]).alias(\"prediction\"),\"idxLabel\")\n",
    "  majority_pred = ensemble.withColumn(\"pred\",mode_udf(\"prediction\"))\n",
    "  f1score = final_evaluator.evaluate(majority_pred, {final_evaluator.metricName: \"f1\"})\n",
    "  accuracy = final_evaluator.evaluate(majority_pred, {final_evaluator.metricName: \"accuracy\"})\n",
    "  print(f'Recall for White: {final_evaluator.evaluate(majority_pred, {final_evaluator.metricName: \"recallByLabel\",final_evaluator.metricLabel: 3.0})}')\n",
    "  print(f'Recall for Princeton: {final_evaluator.evaluate(majority_pred, {final_evaluator.metricName: \"recallByLabel\",final_evaluator.metricLabel: 0.0})}')\n",
    "  print(f'Recall for Montreal: {final_evaluator.evaluate(majority_pred, {final_evaluator.metricName: \"recallByLabel\",final_evaluator.metricLabel: 2.0})}')\n",
    "  print(f'Recall for Padua: {final_evaluator.evaluate(majority_pred, {final_evaluator.metricName: \"recallByLabel\",final_evaluator.metricLabel: 1.0})}')\n",
    "  print(f'Precision for White: {final_evaluator.evaluate(majority_pred, {final_evaluator.metricName: \"precisionByLabel\",final_evaluator.metricLabel: 3.0})}')\n",
    "  print(f'Precision for Princeton: {final_evaluator.evaluate(majority_pred, {final_evaluator.metricName: \"precisionByLabel\",final_evaluator.metricLabel: 0.0})}')\n",
    "  print(f'Precision for Montreal: {final_evaluator.evaluate(majority_pred, {final_evaluator.metricName: \"precisionByLabel\",final_evaluator.metricLabel: 2.0})}')\n",
    "  print(f'Precision for Padua: {final_evaluator.evaluate(majority_pred, {final_evaluator.metricName: \"precisionByLabel\",final_evaluator.metricLabel: 1.0})}')\n",
    "  print(f'F Measure for White: {final_evaluator.evaluate(majority_pred, {final_evaluator.metricName: \"fMeasureByLabel\",final_evaluator.metricLabel: 3.0})}')\n",
    "  print(f'F Measure for Princeton: {final_evaluator.evaluate(majority_pred, {final_evaluator.metricName: \"fMeasureByLabel\",final_evaluator.metricLabel: 0.0})}')\n",
    "  print(f'F Measure for Montreal: {final_evaluator.evaluate(majority_pred, {final_evaluator.metricName: \"fMeasureByLabel\",final_evaluator.metricLabel: 2.0})}')\n",
    "  print(f'F Measure for Padua: {final_evaluator.evaluate(majority_pred, {final_evaluator.metricName: \"fMeasureByLabel\",final_evaluator.metricLabel: 1.0})}')\n",
    "  print(f'Accuracy: {accuracy * 100}')\n",
    "  print(f'F1 score: {f1score}')"
   ]
  },
  {
   "cell_type": "markdown",
   "metadata": {
    "application/vnd.databricks.v1+cell": {
     "cellMetadata": {
      "byteLimit": 2048000,
      "rowLimit": 10000
     },
     "inputWidgets": {},
     "nuid": "eeac7917-9ae8-4714-bc67-3f9ef56635ef",
     "showTitle": false,
     "title": ""
    }
   },
   "source": [
    "#Bagging with Logistic Regression"
   ]
  },
  {
   "cell_type": "code",
   "execution_count": 0,
   "metadata": {
    "application/vnd.databricks.v1+cell": {
     "cellMetadata": {
      "byteLimit": 2048000,
      "rowLimit": 10000
     },
     "inputWidgets": {},
     "nuid": "1f459120-bf3c-4c4b-a9c6-c5b2d5e6451e",
     "showTitle": true,
     "title": "Fit the standard scaler "
    }
   },
   "outputs": [],
   "source": [
    "scalerTransformer = StandardScaler(inputCol='vectorised',outputCol='features').fit(vectorAssembler.transform(train_df))"
   ]
  },
  {
   "cell_type": "code",
   "execution_count": 0,
   "metadata": {
    "application/vnd.databricks.v1+cell": {
     "cellMetadata": {
      "byteLimit": 2048000,
      "rowLimit": 10000
     },
     "inputWidgets": {},
     "nuid": "e2bf610d-54c1-4bec-affe-8ef5057b83a7",
     "showTitle": true,
     "title": "Implementing bagging with logistic regression"
    }
   },
   "outputs": [],
   "source": [
    "Xtrain_bag = scalerTransformer.transform(vectorAssembler.transform(train_df))\n",
    "lr = LogisticRegression(featuresCol='features',labelCol='idxLabel',family='multinomial')\n",
    "models = baggingMethod(Xtrain_bag,lr,1.0)"
   ]
  },
  {
   "cell_type": "code",
   "execution_count": 0,
   "metadata": {
    "application/vnd.databricks.v1+cell": {
     "cellMetadata": {
      "byteLimit": 2048000,
      "rowLimit": 10000
     },
     "inputWidgets": {},
     "nuid": "a1d23006-f0eb-4121-a674-c2939947f716",
     "showTitle": true,
     "title": "Evaluating Bagging with Logistic Regression on Test Dataset and save the model"
    }
   },
   "outputs": [
    {
     "output_type": "stream",
     "name": "stdout",
     "output_type": "stream",
     "text": [
      "Recall for White: 0.1654876458109946\nRecall for Princeton: 0.9760201935212452\nRecall for Montreal: 0.5348189415041783\nRecall for Padua: 0.7524858908895459\nPrecision for White: 0.9966175134530715\nPrecision for Princeton: 0.016593592870476993\nPrecision for Montreal: 0.008902865188195273\nPrecision for Padua: 0.013071102127321871\nF Measure for White: 0.2838433075708931\nF Measure for Princeton: 0.03263239327660173\nF Measure for Montreal: 0.017514180515474178\nF Measure for Padua: 0.02569585287288812\nAccuracy: 17.40627531012771\nF1 score: 0.2801751326819395\n"
     ]
    }
   ],
   "source": [
    "Xtest_bag = scalerTransformer.transform(vectorAssembler.transform(test_df))\n",
    "pipeline_lrModel = PipelineModel(stages=models)\n",
    "savePipeline(pipeline_lrModel,\"MulticlassModel-FinalELR\")\n",
    "# pipeline_lrModel = PipelineModel.load(\"/mnt/team14/MulticlassModel-FinalELR\")\n",
    "evaluate_ensemble(pipeline_lrModel,Xtest_bag)"
   ]
  },
  {
   "cell_type": "code",
   "execution_count": 0,
   "metadata": {
    "application/vnd.databricks.v1+cell": {
     "cellMetadata": {
      "byteLimit": 2048000,
      "rowLimit": 10000
     },
     "inputWidgets": {},
     "nuid": "787bf802-2cf9-4b91-a637-3ceeb6d88568",
     "showTitle": true,
     "title": "Test each logistic regression in the ensemble"
    }
   },
   "outputs": [],
   "source": [
    "test_individual_models(Xtest_bag,models)"
   ]
  },
  {
   "cell_type": "markdown",
   "metadata": {
    "application/vnd.databricks.v1+cell": {
     "cellMetadata": {
      "byteLimit": 2048000,
      "rowLimit": 10000
     },
     "inputWidgets": {},
     "nuid": "f4c29c92-4d63-4d7b-b932-0a67d2b303d8",
     "showTitle": false,
     "title": ""
    }
   },
   "source": [
    "#Logistic Regression"
   ]
  },
  {
   "cell_type": "code",
   "execution_count": 0,
   "metadata": {
    "application/vnd.databricks.v1+cell": {
     "cellMetadata": {
      "byteLimit": 2048000,
      "rowLimit": 10000
     },
     "inputWidgets": {},
     "nuid": "ed1c5cc8-2c08-4b67-9d0a-427512f18642",
     "showTitle": true,
     "title": "Implementing logistic regression"
    }
   },
   "outputs": [],
   "source": [
    "lrs = LogisticRegression(featuresCol='features',labelCol='idxLabel',family='multinomial')\n",
    "evaluator.setMetricName('f1')\n",
    "paramGrid_lrs = ParamGridBuilder().addGrid(lrs.elasticNetParam,[0,0.6,1.0])\\\n",
    "                                 .addGrid(lrs.regParam,[0.01,0.1,1.0])\\\n",
    "                                 .build()\n",
    "cv_lrs = CrossValidator(estimator=lrs,estimatorParamMaps=paramGrid_lrs,evaluator = evaluator,numFolds=5)\n",
    "pipeline_lrs = Pipeline(stages=[vectorAssembler,standardScaler,cv_lrs])\n",
    "pipeline_lrsModel = pipeline_lrs.fit(train_df)\n",
    "# pipeline_lrsModel = PipelineModel.load(\"/mnt/team14/MulticlassModel-FinalLRS\")"
   ]
  },
  {
   "cell_type": "code",
   "execution_count": 0,
   "metadata": {
    "application/vnd.databricks.v1+cell": {
     "cellMetadata": {
      "byteLimit": 2048000,
      "rowLimit": 10000
     },
     "inputWidgets": {},
     "nuid": "06680b7d-b618-4d84-853a-715dbd843410",
     "showTitle": true,
     "title": "Evaluating Logistic Regression on Test Dataset"
    }
   },
   "outputs": [
    {
     "output_type": "stream",
     "name": "stdout",
     "output_type": "stream",
     "text": [
      "Recall for White: 0.12377282032000668\nRecall for Princeton: 0.9854859066049643\nRecall for Montreal: 0.5340592555077235\nRecall for Padua: 0.7683418435904327\nPrecision for White: 0.9975589225589225\nPrecision for Princeton: 0.015100189840166827\nPrecision for Montreal: 0.009222897625399048\nPrecision for Padua: 0.012522721797595322\nF Measure for White: 0.22022150369792248\nF Measure for Princeton: 0.029744615335777658\nF Measure for Montreal: 0.018132654684269126\nF Measure for Padua: 0.024643789920095163\nAccuracy: 13.305634234621738\nF1 Score: 0.21744016871309615\n"
     ]
    }
   ],
   "source": [
    "prediction = pipeline_lrsModel.transform(test_df)\n",
    "evaluator.setMetricName('f1')\n",
    "f1_score = evaluator.evaluate(prediction)\n",
    "evaluator.setMetricName('accuracy')\n",
    "accuracy = evaluator.evaluate(prediction)\n",
    "print(f'Recall for White: {evaluator.evaluate(prediction, {evaluator.metricName: \"recallByLabel\",evaluator.metricLabel: 3.0})}')\n",
    "print(f'Recall for Princeton: {evaluator.evaluate(prediction, {evaluator.metricName: \"recallByLabel\",evaluator.metricLabel: 0.0})}')\n",
    "print(f'Recall for Montreal: {evaluator.evaluate(prediction, {evaluator.metricName: \"recallByLabel\",evaluator.metricLabel: 2.0})}')\n",
    "print(f'Recall for Padua: {evaluator.evaluate(prediction, {evaluator.metricName: \"recallByLabel\",evaluator.metricLabel: 1.0})}')\n",
    "print(f'Precision for White: {evaluator.evaluate(prediction, {evaluator.metricName: \"precisionByLabel\",evaluator.metricLabel: 3.0})}')\n",
    "print(f'Precision for Princeton: {evaluator.evaluate(prediction, {evaluator.metricName: \"precisionByLabel\",evaluator.metricLabel: 0.0})}')\n",
    "print(f'Precision for Montreal: {evaluator.evaluate(prediction, {evaluator.metricName: \"precisionByLabel\",evaluator.metricLabel: 2.0})}')\n",
    "print(f'Precision for Padua: {evaluator.evaluate(prediction, {evaluator.metricName: \"precisionByLabel\",evaluator.metricLabel: 1.0})}')\n",
    "print(f'F Measure for White: {evaluator.evaluate(prediction, {evaluator.metricName: \"fMeasureByLabel\",evaluator.metricLabel: 3.0})}')\n",
    "print(f'F Measure for Princeton: {evaluator.evaluate(prediction, {evaluator.metricName: \"fMeasureByLabel\",evaluator.metricLabel: 0.0})}')\n",
    "print(f'F Measure for Montreal: {evaluator.evaluate(prediction, {evaluator.metricName: \"fMeasureByLabel\",evaluator.metricLabel: 2.0})}')\n",
    "print(f'F Measure for Padua: {evaluator.evaluate(prediction, {evaluator.metricName: \"fMeasureByLabel\",evaluator.metricLabel: 1.0})}')\n",
    "print(f'Accuracy: {accuracy*100}')\n",
    "print(f'F1 Score: {f1_score}')"
   ]
  },
  {
   "cell_type": "code",
   "execution_count": 0,
   "metadata": {
    "application/vnd.databricks.v1+cell": {
     "cellMetadata": {
      "byteLimit": 2048000,
      "rowLimit": 10000
     },
     "inputWidgets": {},
     "nuid": "1f848e6b-096a-4853-8c61-94d083221a25",
     "showTitle": true,
     "title": "Saving the model"
    }
   },
   "outputs": [],
   "source": [
    "savePipeline(pipeline_lrsModel,\"MulticlassModel-FinalLRS\")"
   ]
  },
  {
   "cell_type": "markdown",
   "metadata": {
    "application/vnd.databricks.v1+cell": {
     "cellMetadata": {
      "byteLimit": 2048000,
      "rowLimit": 10000
     },
     "inputWidgets": {},
     "nuid": "a402d516-54fd-484d-aeab-1bced141456e",
     "showTitle": false,
     "title": ""
    }
   },
   "source": [
    "# Random Forest"
   ]
  },
  {
   "cell_type": "code",
   "execution_count": 0,
   "metadata": {
    "application/vnd.databricks.v1+cell": {
     "cellMetadata": {
      "byteLimit": 2048000,
      "rowLimit": 10000
     },
     "inputWidgets": {},
     "nuid": "76f5c12d-5e7a-44d2-97ca-537a03083bdc",
     "showTitle": true,
     "title": "Implementing Random Forest"
    }
   },
   "outputs": [],
   "source": [
    "rf = RandomForestClassifier(featuresCol = 'features',labelCol = 'idxLabel')\n",
    "evaluator.setMetricName('f1')\n",
    "paramGrid_rf = ParamGridBuilder().addGrid(rf.numTrees,[15,17,19])\\\n",
    "                                 .addGrid(rf.maxDepth,[12,15,17])\\\n",
    "                                 .build()\n",
    "cv_rf = CrossValidator(estimator=rf,estimatorParamMaps=paramGrid_rf,evaluator = evaluator,numFolds=5)\n",
    "pipeline_rf = Pipeline(stages=[vectorAssembler,standardScaler,cv_rf])\n",
    "pipeline_rfModel = pipeline_rf.fit(train_df)\n",
    "# pipeline_rfModel = PipelineModel.load(\"/mnt/team14/MulticlassModel-FinalRF\")"
   ]
  },
  {
   "cell_type": "code",
   "execution_count": 0,
   "metadata": {
    "application/vnd.databricks.v1+cell": {
     "cellMetadata": {
      "byteLimit": 2048000,
      "rowLimit": 10000
     },
     "inputWidgets": {},
     "nuid": "e81a96af-f76a-4aea-b84e-11a30e2f39aa",
     "showTitle": true,
     "title": "Evaluate Random Forest on Test Dataset"
    }
   },
   "outputs": [
    {
     "output_type": "stream",
     "name": "stdout",
     "output_type": "stream",
     "text": [
      "Recall for White: 0.8818727864347616\nRecall for Princeton: 0.9084981068573833\nRecall for Montreal: 0.6323119777158774\nRecall for Padua: 0.8997581295350712\nPrecision for White: 0.99739998608776\nPrecision for Princeton: 0.09616155319054193\nPrecision for Montreal: 0.06856687810637889\nPrecision for Padua: 0.10832847990681421\nF Measure for White: 0.9360854025895958\nF Measure for Princeton: 0.17391479423371187\nF Measure for Montreal: 0.12371798047862063\nF Measure for Padua: 0.19337511190689347\nAccuracy: 88.09663263765277\nF1 Score: 0.9251090745501264\n"
     ]
    }
   ],
   "source": [
    "# Evaluating Random Forest\n",
    "prediction = pipeline_rfModel.transform(test_df)\n",
    "evaluator.setMetricName('f1')\n",
    "f1_score = evaluator.evaluate(prediction)\n",
    "evaluator.setMetricName('accuracy')\n",
    "accuracy = evaluator.evaluate(prediction)\n",
    "print(f'Recall for White: {evaluator.evaluate(prediction, {evaluator.metricName: \"recallByLabel\",evaluator.metricLabel: 3.0})}')\n",
    "print(f'Recall for Princeton: {evaluator.evaluate(prediction, {evaluator.metricName: \"recallByLabel\",evaluator.metricLabel: 0.0})}')\n",
    "print(f'Recall for Montreal: {evaluator.evaluate(prediction, {evaluator.metricName: \"recallByLabel\",evaluator.metricLabel: 2.0})}')\n",
    "print(f'Recall for Padua: {evaluator.evaluate(prediction, {evaluator.metricName: \"recallByLabel\",evaluator.metricLabel: 1.0})}')\n",
    "print(f'Precision for White: {evaluator.evaluate(prediction, {evaluator.metricName: \"precisionByLabel\",evaluator.metricLabel: 3.0})}')\n",
    "print(f'Precision for Princeton: {evaluator.evaluate(prediction, {evaluator.metricName: \"precisionByLabel\",evaluator.metricLabel: 0.0})}')\n",
    "print(f'Precision for Montreal: {evaluator.evaluate(prediction, {evaluator.metricName: \"precisionByLabel\",evaluator.metricLabel: 2.0})}')\n",
    "print(f'Precision for Padua: {evaluator.evaluate(prediction, {evaluator.metricName: \"precisionByLabel\",evaluator.metricLabel: 1.0})}')\n",
    "print(f'F Measure for White: {evaluator.evaluate(prediction, {evaluator.metricName: \"fMeasureByLabel\",evaluator.metricLabel: 3.0})}')\n",
    "print(f'F Measure for Princeton: {evaluator.evaluate(prediction, {evaluator.metricName: \"fMeasureByLabel\",evaluator.metricLabel: 0.0})}')\n",
    "print(f'F Measure for Montreal: {evaluator.evaluate(prediction, {evaluator.metricName: \"fMeasureByLabel\",evaluator.metricLabel: 2.0})}')\n",
    "print(f'F Measure for Padua: {evaluator.evaluate(prediction, {evaluator.metricName: \"fMeasureByLabel\",evaluator.metricLabel: 1.0})}')\n",
    "print(f'Accuracy: {accuracy*100}')\n",
    "print(f'F1 Score: {f1_score}')"
   ]
  },
  {
   "cell_type": "code",
   "execution_count": 0,
   "metadata": {
    "application/vnd.databricks.v1+cell": {
     "cellMetadata": {
      "byteLimit": 2048000,
      "rowLimit": 10000
     },
     "inputWidgets": {},
     "nuid": "299994af-ddfc-4930-b9bb-f235e0538431",
     "showTitle": true,
     "title": "Saving the Model"
    }
   },
   "outputs": [],
   "source": [
    "savePipeline(pipeline_rfModel,\"MulticlassModel-FinalRF\")"
   ]
  },
  {
   "cell_type": "markdown",
   "metadata": {
    "application/vnd.databricks.v1+cell": {
     "cellMetadata": {
      "byteLimit": 2048000,
      "rowLimit": 10000
     },
     "inputWidgets": {},
     "nuid": "18b3df72-ae18-42f6-a745-3a999544b6bd",
     "showTitle": false,
     "title": ""
    }
   },
   "source": [
    "#Decision Tree\n"
   ]
  },
  {
   "cell_type": "code",
   "execution_count": 0,
   "metadata": {
    "application/vnd.databricks.v1+cell": {
     "cellMetadata": {
      "byteLimit": 2048000,
      "rowLimit": 10000
     },
     "inputWidgets": {},
     "nuid": "0d200231-fe84-4d59-9c3d-82b4d21a511e",
     "showTitle": true,
     "title": "Implementing Decision Tree"
    }
   },
   "outputs": [],
   "source": [
    "dt = DecisionTreeClassifier(featuresCol = 'features',labelCol = 'idxLabel')\n",
    "evaluator.setMetricName('f1')\n",
    "paramGrid_dt = ParamGridBuilder().addGrid(dt.maxDepth,np.arange(1,31,1))\\\n",
    "                                 .addGrid(dt.maxBins,[32,64,128])\\\n",
    "                                 .build()\n",
    "\n",
    "cv_dt = CrossValidator(estimator=dt,estimatorParamMaps=paramGrid_dt,evaluator = evaluator,numFolds=5)\n",
    "pipeline_dt = Pipeline(stages=[vectorAssembler,standardScaler,cv_dt])\n",
    "pipeline_dtModel = pipeline_dt.fit(train_df)\n",
    "# pipeline_dtModel = PipelineModel.load(\"/mnt/team14/MulticlassModel-FinalDT\")"
   ]
  },
  {
   "cell_type": "code",
   "execution_count": 0,
   "metadata": {
    "application/vnd.databricks.v1+cell": {
     "cellMetadata": {
      "byteLimit": 2048000,
      "rowLimit": 10000
     },
     "inputWidgets": {},
     "nuid": "24dcc250-e350-4534-88f3-e0a935a431b6",
     "showTitle": true,
     "title": "Evaluating Decision Tree on Test Dataset"
    }
   },
   "outputs": [
    {
     "output_type": "stream",
     "name": "stdout",
     "output_type": "stream",
     "text": [
      "Recall for White: 0.9615576536556609\nRecall for Princeton: 0.7684055532183425\nRecall for Montreal: 0.41808052671562423\nRecall for Padua: 0.6025262026337006\nPrecision for White: 0.9943502621463963\nPrecision for Princeton: 0.2791532935962097\nPrecision for Montreal: 0.1194127007088095\nPrecision for Padua: 0.16093604192089583\nF Measure for White: 0.977679058668059\nF Measure for Princeton: 0.4095291479820628\nF Measure for Montreal: 0.18576652601969057\nF Measure for Padua: 0.254022207115341\nAccuracy: 95.65237783645024\nF1 Score: 0.9679313998846641\n"
     ]
    }
   ],
   "source": [
    "prediction = pipeline_dtModel.transform(test_df)\n",
    "evaluator.setMetricName('f1')\n",
    "f1_score = evaluator.evaluate(prediction)\n",
    "evaluator.setMetricName('accuracy')\n",
    "accuracy = evaluator.evaluate(prediction)\n",
    "print(f'Recall for White: {evaluator.evaluate(prediction, {evaluator.metricName: \"recallByLabel\",evaluator.metricLabel: 3.0})}')\n",
    "print(f'Recall for Princeton: {evaluator.evaluate(prediction, {evaluator.metricName: \"recallByLabel\",evaluator.metricLabel: 0.0})}')\n",
    "print(f'Recall for Montreal: {evaluator.evaluate(prediction, {evaluator.metricName: \"recallByLabel\",evaluator.metricLabel: 2.0})}')\n",
    "print(f'Recall for Padua: {evaluator.evaluate(prediction, {evaluator.metricName: \"recallByLabel\",evaluator.metricLabel: 1.0})}')\n",
    "print(f'Precision for White: {evaluator.evaluate(prediction, {evaluator.metricName: \"precisionByLabel\",evaluator.metricLabel: 3.0})}')\n",
    "print(f'Precision for Princeton: {evaluator.evaluate(prediction, {evaluator.metricName: \"precisionByLabel\",evaluator.metricLabel: 0.0})}')\n",
    "print(f'Precision for Montreal: {evaluator.evaluate(prediction, {evaluator.metricName: \"precisionByLabel\",evaluator.metricLabel: 2.0})}')\n",
    "print(f'Precision for Padua: {evaluator.evaluate(prediction, {evaluator.metricName: \"precisionByLabel\",evaluator.metricLabel: 1.0})}')\n",
    "print(f'F Measure for White: {evaluator.evaluate(prediction, {evaluator.metricName: \"fMeasureByLabel\",evaluator.metricLabel: 3.0})}')\n",
    "print(f'F Measure for Princeton: {evaluator.evaluate(prediction, {evaluator.metricName: \"fMeasureByLabel\",evaluator.metricLabel: 0.0})}')\n",
    "print(f'F Measure for Montreal: {evaluator.evaluate(prediction, {evaluator.metricName: \"fMeasureByLabel\",evaluator.metricLabel: 2.0})}')\n",
    "print(f'F Measure for Padua: {evaluator.evaluate(prediction, {evaluator.metricName: \"fMeasureByLabel\",evaluator.metricLabel: 1.0})}')\n",
    "print(f'Accuracy: {accuracy*100}')\n",
    "print(f'F1 Score: {f1_score}')"
   ]
  },
  {
   "cell_type": "code",
   "execution_count": 0,
   "metadata": {
    "application/vnd.databricks.v1+cell": {
     "cellMetadata": {
      "byteLimit": 2048000,
      "rowLimit": 10000
     },
     "inputWidgets": {},
     "nuid": "e1a8becd-5c6e-455d-813e-474235ed748d",
     "showTitle": true,
     "title": "Evaluating Decision Tree on train dataset"
    }
   },
   "outputs": [
    {
     "output_type": "stream",
     "name": "stdout",
     "output_type": "stream",
     "text": [
      "Recall for White: 0.9892076848726683\nRecall for Princeton: 0.9995901707660128\nRecall for Montreal: 0.9978670114743583\nRecall for Padua: 0.9996271087123386\nPrecision for White: 0.9985925064993849\nPrecision for Princeton: 0.9983621229596146\nPrecision for Montreal: 0.9966814403023652\nPrecision for Padua: 0.9966258897978431\nF Measure for White: 0.9938779418303857\nF Measure for Princeton: 0.9989757694510457\nF Measure for Montreal: 0.99727387353317\nF Measure for Padua: 0.998124243199626\nAccuracy: 99.7558214708385\nF1 Score: 0.9975550194193246\n"
     ]
    }
   ],
   "source": [
    "prediction = pipeline_dtModel.transform(train_df)\n",
    "evaluator.setMetricName('f1')\n",
    "f1_score = evaluator.evaluate(prediction)\n",
    "evaluator.setMetricName('accuracy')\n",
    "accuracy = evaluator.evaluate(prediction)\n",
    "print(f'Recall for White: {evaluator.evaluate(prediction, {evaluator.metricName: \"recallByLabel\",evaluator.metricLabel: 3.0})}')\n",
    "print(f'Recall for Princeton: {evaluator.evaluate(prediction, {evaluator.metricName: \"recallByLabel\",evaluator.metricLabel: 0.0})}')\n",
    "print(f'Recall for Montreal: {evaluator.evaluate(prediction, {evaluator.metricName: \"recallByLabel\",evaluator.metricLabel: 2.0})}')\n",
    "print(f'Recall for Padua: {evaluator.evaluate(prediction, {evaluator.metricName: \"recallByLabel\",evaluator.metricLabel: 1.0})}')\n",
    "print(f'Precision for White: {evaluator.evaluate(prediction, {evaluator.metricName: \"precisionByLabel\",evaluator.metricLabel: 3.0})}')\n",
    "print(f'Precision for Princeton: {evaluator.evaluate(prediction, {evaluator.metricName: \"precisionByLabel\",evaluator.metricLabel: 0.0})}')\n",
    "print(f'Precision for Montreal: {evaluator.evaluate(prediction, {evaluator.metricName: \"precisionByLabel\",evaluator.metricLabel: 2.0})}')\n",
    "print(f'Precision for Padua: {evaluator.evaluate(prediction, {evaluator.metricName: \"precisionByLabel\",evaluator.metricLabel: 1.0})}')\n",
    "print(f'F Measure for White: {evaluator.evaluate(prediction, {evaluator.metricName: \"fMeasureByLabel\",evaluator.metricLabel: 3.0})}')\n",
    "print(f'F Measure for Princeton: {evaluator.evaluate(prediction, {evaluator.metricName: \"fMeasureByLabel\",evaluator.metricLabel: 0.0})}')\n",
    "print(f'F Measure for Montreal: {evaluator.evaluate(prediction, {evaluator.metricName: \"fMeasureByLabel\",evaluator.metricLabel: 2.0})}')\n",
    "print(f'F Measure for Padua: {evaluator.evaluate(prediction, {evaluator.metricName: \"fMeasureByLabel\",evaluator.metricLabel: 1.0})}')\n",
    "print(f'Accuracy: {accuracy*100}')\n",
    "print(f'F1 Score: {f1_score}')"
   ]
  },
  {
   "cell_type": "code",
   "execution_count": 0,
   "metadata": {
    "application/vnd.databricks.v1+cell": {
     "cellMetadata": {
      "byteLimit": 2048000,
      "rowLimit": 10000
     },
     "inputWidgets": {},
     "nuid": "135b30f0-e02e-490a-91d1-17dfe4e9064b",
     "showTitle": true,
     "title": "Saving the model"
    }
   },
   "outputs": [
    {
     "output_type": "display_data",
     "data": {
      "text/html": [
       "<style scoped>\n",
       "  .ansiout {\n",
       "    display: block;\n",
       "    unicode-bidi: embed;\n",
       "    white-space: pre-wrap;\n",
       "    word-wrap: break-word;\n",
       "    word-break: break-all;\n",
       "    font-family: \"Menlo\", \"Monaco\", \"Consolas\", \"Ubuntu Mono\", \"Source Code Pro\", monospace;\n",
       "    font-size: 13px;\n",
       "    color: #555;\n",
       "    margin-left: 4px;\n",
       "    line-height: 19px;\n",
       "  }\n",
       "</style>\n",
       "java.lang.Exception: Timed out with exception after 1236 attempts\n",
       "\tat com.databricks.backend.daemon.driver.DriverCorral.com$databricks$backend$daemon$driver$DriverCorral$$handleRequest(DriverCorral.scala:536)\n",
       "\tat com.databricks.backend.daemon.driver.DriverCorral$$anonfun$receive$1.applyOrElse(DriverCorral.scala:909)\n",
       "\tat com.databricks.backend.daemon.driver.DriverCorral$$anonfun$receive$1.applyOrElse(DriverCorral.scala:905)\n",
       "\tat com.databricks.rpc.ServerBackend.$anonfun$internalReceive$2(ServerBackend.scala:119)\n",
       "\tat com.databricks.rpc.ServerBackend$$anonfun$commonReceive$1.applyOrElse(ServerBackend.scala:146)\n",
       "\tat com.databricks.rpc.ServerBackend$$anonfun$commonReceive$1.applyOrElse(ServerBackend.scala:146)\n",
       "\tat com.databricks.rpc.ServerBackend.$anonfun$internalReceive$1(ServerBackend.scala:116)\n",
       "\tat com.databricks.logging.UsageLogging.$anonfun$recordOperation$1(UsageLogging.scala:550)\n",
       "\tat com.databricks.logging.UsageLogging.executeThunkAndCaptureResultTags$1(UsageLogging.scala:645)\n",
       "\tat com.databricks.logging.UsageLogging.$anonfun$recordOperationWithResultTags$4(UsageLogging.scala:666)\n",
       "\tat com.databricks.logging.UsageLogging.$anonfun$withAttributionContext$1(UsageLogging.scala:407)\n",
       "\tat scala.util.DynamicVariable.withValue(DynamicVariable.scala:62)\n",
       "\tat com.databricks.logging.AttributionContext$.withValue(AttributionContext.scala:158)\n",
       "\tat com.databricks.logging.UsageLogging.withAttributionContext(UsageLogging.scala:405)\n",
       "\tat com.databricks.logging.UsageLogging.withAttributionContext$(UsageLogging.scala:402)\n",
       "\tat com.databricks.rpc.ServerBackend.withAttributionContext(ServerBackend.scala:24)\n",
       "\tat com.databricks.logging.UsageLogging.withAttributionTags(UsageLogging.scala:450)\n",
       "\tat com.databricks.logging.UsageLogging.withAttributionTags$(UsageLogging.scala:435)\n",
       "\tat com.databricks.rpc.ServerBackend.withAttributionTags(ServerBackend.scala:24)\n",
       "\tat com.databricks.logging.UsageLogging.recordOperationWithResultTags(UsageLogging.scala:640)\n",
       "\tat com.databricks.logging.UsageLogging.recordOperationWithResultTags$(UsageLogging.scala:559)\n",
       "\tat com.databricks.rpc.ServerBackend.recordOperationWithResultTags(ServerBackend.scala:24)\n",
       "\tat com.databricks.logging.UsageLogging.recordOperation(UsageLogging.scala:550)\n",
       "\tat com.databricks.logging.UsageLogging.recordOperation$(UsageLogging.scala:520)\n",
       "\tat com.databricks.rpc.ServerBackend.recordOperation(ServerBackend.scala:24)\n",
       "\tat com.databricks.rpc.ServerBackend.internalReceive(ServerBackend.scala:115)\n",
       "\tat com.databricks.rpc.JettyServer$RequestManager.$anonfun$handleRPC$2(JettyServer.scala:958)\n",
       "\tat scala.util.Try$.apply(Try.scala:213)\n",
       "\tat com.databricks.rpc.JettyServer$RequestManager.handleRPC(JettyServer.scala:958)\n",
       "\tat com.databricks.rpc.JettyServer$RequestManager.handleRequestAndRespond(JettyServer.scala:874)\n",
       "\tat com.databricks.rpc.JettyServer$RequestManager.$anonfun$handleHttp$2(JettyServer.scala:503)\n",
       "\tat com.databricks.rpc.JettyServer$RequestManager.$anonfun$handleHttp$2$adapted(JettyServer.scala:478)\n",
       "\tat com.databricks.logging.activity.ActivityContextFactory$.$anonfun$withActivityInternal$3(ActivityContextFactory.scala:387)\n",
       "\tat com.databricks.logging.UsageLogging.$anonfun$withAttributionContext$1(UsageLogging.scala:407)\n",
       "\tat scala.util.DynamicVariable.withValue(DynamicVariable.scala:62)\n",
       "\tat com.databricks.logging.AttributionContext$.withValue(AttributionContext.scala:158)\n",
       "\tat com.databricks.logging.UsageLogging.withAttributionContext(UsageLogging.scala:405)\n",
       "\tat com.databricks.logging.UsageLogging.withAttributionContext$(UsageLogging.scala:402)\n",
       "\tat com.databricks.logging.activity.ActivityContextFactory$.withAttributionContext(ActivityContextFactory.scala:53)\n",
       "\tat com.databricks.logging.UsageLogging.withAttributionTags(UsageLogging.scala:450)\n",
       "\tat com.databricks.logging.UsageLogging.withAttributionTags$(UsageLogging.scala:435)\n",
       "\tat com.databricks.logging.activity.ActivityContextFactory$.withAttributionTags(ActivityContextFactory.scala:53)\n",
       "\tat com.databricks.logging.activity.ActivityContextFactory$.withActivityInternal(ActivityContextFactory.scala:381)\n",
       "\tat com.databricks.logging.activity.ActivityContextFactory$.withServiceRequestActivity(ActivityContextFactory.scala:164)\n",
       "\tat com.databricks.rpc.JettyServer$RequestManager.handleHttp(JettyServer.scala:478)\n",
       "\tat com.databricks.rpc.JettyServer$RequestManager.doPost(JettyServer.scala:375)\n",
       "\tat javax.servlet.http.HttpServlet.service(HttpServlet.java:523)\n",
       "\tat com.databricks.rpc.HttpServletWithPatch.service(HttpServletWithPatch.scala:33)\n",
       "\tat javax.servlet.http.HttpServlet.service(HttpServlet.java:590)\n",
       "\tat org.eclipse.jetty.servlet.ServletHolder.handle(ServletHolder.java:799)\n",
       "\tat org.eclipse.jetty.servlet.ServletHandler.doHandle(ServletHandler.java:550)\n",
       "\tat org.eclipse.jetty.server.handler.ScopedHandler.nextScope(ScopedHandler.java:190)\n",
       "\tat org.eclipse.jetty.servlet.ServletHandler.doScope(ServletHandler.java:501)\n",
       "\tat org.eclipse.jetty.server.handler.ScopedHandler.handle(ScopedHandler.java:141)\n",
       "\tat org.eclipse.jetty.server.handler.HandlerWrapper.handle(HandlerWrapper.java:127)\n",
       "\tat org.eclipse.jetty.server.Server.handle(Server.java:516)\n",
       "\tat org.eclipse.jetty.server.HttpChannel.lambda$handle$1(HttpChannel.java:487)\n",
       "\tat org.eclipse.jetty.server.HttpChannel.dispatch(HttpChannel.java:732)\n",
       "\tat org.eclipse.jetty.server.HttpChannel.handle(HttpChannel.java:479)\n",
       "\tat org.eclipse.jetty.server.HttpConnection.onFillable(HttpConnection.java:277)\n",
       "\tat org.eclipse.jetty.io.AbstractConnection$ReadCallback.succeeded(AbstractConnection.java:311)\n",
       "\tat org.eclipse.jetty.io.FillInterest.fillable(FillInterest.java:105)\n",
       "\tat org.eclipse.jetty.io.ChannelEndPoint$1.run(ChannelEndPoint.java:104)\n",
       "\tat org.eclipse.jetty.util.thread.strategy.EatWhatYouKill.runTask(EatWhatYouKill.java:338)\n",
       "\tat org.eclipse.jetty.util.thread.strategy.EatWhatYouKill.doProduce(EatWhatYouKill.java:315)\n",
       "\tat org.eclipse.jetty.util.thread.strategy.EatWhatYouKill.tryProduce(EatWhatYouKill.java:173)\n",
       "\tat org.eclipse.jetty.util.thread.strategy.EatWhatYouKill.run(EatWhatYouKill.java:131)\n",
       "\tat org.eclipse.jetty.util.thread.ReservedThreadExecutor$ReservedThread.run(ReservedThreadExecutor.java:409)\n",
       "\tat com.databricks.rpc.InstrumentedQueuedThreadPool$$anon$1.run(InstrumentedQueuedThreadPool.scala:80)\n",
       "\tat org.eclipse.jetty.util.thread.QueuedThreadPool.runJob(QueuedThreadPool.java:883)\n",
       "\tat org.eclipse.jetty.util.thread.QueuedThreadPool$Runner.run(QueuedThreadPool.java:1034)\n",
       "\tat java.lang.Thread.run(Thread.java:750)\n",
       "Caused by: java.lang.Throwable: Timed out with exception after 1236 attempts\n",
       "\tat com.databricks.backend.common.util.TimeUtils$.retryWithExponentialBackoff0(TimeUtils.scala:221)\n",
       "\tat com.databricks.backend.common.util.TimeUtils$.retryWithExponentialBackoff(TimeUtils.scala:145)\n",
       "\tat com.databricks.backend.common.util.TimeUtils$.retryWithTimeout(TimeUtils.scala:94)\n",
       "\tat com.databricks.backend.common.util.CommandLineHelper$.runJavaProcessBuilderCommandWithTimeout(CommandLineHelper.scala:525)\n",
       "\tat com.databricks.backend.common.util.CommandLineHelper$.runJavaProcessBuilderWithTimeout(CommandLineHelper.scala:400)\n",
       "\tat com.databricks.backend.daemon.driver.DriverCorral$.$anonfun$createSessionUser$1(DriverCorral.scala:1591)\n",
       "\tat scala.runtime.java8.JFunction0$mcV$sp.apply(JFunction0$mcV$sp.java:23)\n",
       "\tat com.databricks.logging.UsageLogging.$anonfun$recordOperation$1(UsageLogging.scala:550)\n",
       "\tat com.databricks.logging.UsageLogging.executeThunkAndCaptureResultTags$1(UsageLogging.scala:645)\n",
       "\tat com.databricks.logging.UsageLogging.$anonfun$recordOperationWithResultTags$4(UsageLogging.scala:666)\n",
       "\tat com.databricks.logging.UsageLogging.$anonfun$withAttributionContext$1(UsageLogging.scala:407)\n",
       "\tat scala.util.DynamicVariable.withValue(DynamicVariable.scala:62)\n",
       "\tat com.databricks.logging.AttributionContext$.withValue(AttributionContext.scala:158)\n",
       "\tat com.databricks.logging.UsageLogging.withAttributionContext(UsageLogging.scala:405)\n",
       "\tat com.databricks.logging.UsageLogging.withAttributionContext$(UsageLogging.scala:402)\n",
       "\tat com.databricks.backend.daemon.driver.DriverCorral$.withAttributionContext(DriverCorral.scala:1043)\n",
       "\tat com.databricks.logging.UsageLogging.withAttributionTags(UsageLogging.scala:450)\n",
       "\tat com.databricks.logging.UsageLogging.withAttributionTags$(UsageLogging.scala:435)\n",
       "\tat com.databricks.backend.daemon.driver.DriverCorral$.withAttributionTags(DriverCorral.scala:1043)\n",
       "\tat com.databricks.logging.UsageLogging.recordOperationWithResultTags(UsageLogging.scala:640)\n",
       "\tat com.databricks.logging.UsageLogging.recordOperationWithResultTags$(UsageLogging.scala:559)\n",
       "\tat com.databricks.backend.daemon.driver.DriverCorral$.recordOperationWithResultTags(DriverCorral.scala:1043)\n",
       "\tat com.databricks.logging.UsageLogging.recordOperation(UsageLogging.scala:550)\n",
       "\tat com.databricks.logging.UsageLogging.recordOperation$(UsageLogging.scala:520)\n",
       "\tat com.databricks.backend.daemon.driver.DriverCorral$.recordOperation(DriverCorral.scala:1043)\n",
       "\tat com.databricks.backend.daemon.driver.DriverCorral$.createSessionUser(DriverCorral.scala:1590)\n",
       "\tat com.databricks.backend.daemon.driver.DriverCorral.createDriverSparkHooks(DriverCorral.scala:417)\n",
       "\tat com.databricks.backend.daemon.driver.DriverCorral.$anonfun$addReplToExecutionContext$1(DriverCorral.scala:429)\n",
       "\tat scala.collection.mutable.HashMap.getOrElseUpdate(HashMap.scala:86)\n",
       "\tat com.databricks.backend.daemon.driver.DriverCorral.addReplToExecutionContext(DriverCorral.scala:429)\n",
       "\tat com.databricks.backend.daemon.driver.DriverCorral.com$databricks$backend$daemon$driver$DriverCorral$$handleRequest(DriverCorral.scala:500)\n",
       "\t... 71 more"
      ]
     },
     "metadata": {
      "application/vnd.databricks.v1+output": {
       "arguments": {},
       "data": "java.lang.Exception: Timed out with exception after 1236 attempts\n\tat com.databricks.backend.daemon.driver.DriverCorral.com$databricks$backend$daemon$driver$DriverCorral$$handleRequest(DriverCorral.scala:536)\n\tat com.databricks.backend.daemon.driver.DriverCorral$$anonfun$receive$1.applyOrElse(DriverCorral.scala:909)\n\tat com.databricks.backend.daemon.driver.DriverCorral$$anonfun$receive$1.applyOrElse(DriverCorral.scala:905)\n\tat com.databricks.rpc.ServerBackend.$anonfun$internalReceive$2(ServerBackend.scala:119)\n\tat com.databricks.rpc.ServerBackend$$anonfun$commonReceive$1.applyOrElse(ServerBackend.scala:146)\n\tat com.databricks.rpc.ServerBackend$$anonfun$commonReceive$1.applyOrElse(ServerBackend.scala:146)\n\tat com.databricks.rpc.ServerBackend.$anonfun$internalReceive$1(ServerBackend.scala:116)\n\tat com.databricks.logging.UsageLogging.$anonfun$recordOperation$1(UsageLogging.scala:550)\n\tat com.databricks.logging.UsageLogging.executeThunkAndCaptureResultTags$1(UsageLogging.scala:645)\n\tat com.databricks.logging.UsageLogging.$anonfun$recordOperationWithResultTags$4(UsageLogging.scala:666)\n\tat com.databricks.logging.UsageLogging.$anonfun$withAttributionContext$1(UsageLogging.scala:407)\n\tat scala.util.DynamicVariable.withValue(DynamicVariable.scala:62)\n\tat com.databricks.logging.AttributionContext$.withValue(AttributionContext.scala:158)\n\tat com.databricks.logging.UsageLogging.withAttributionContext(UsageLogging.scala:405)\n\tat com.databricks.logging.UsageLogging.withAttributionContext$(UsageLogging.scala:402)\n\tat com.databricks.rpc.ServerBackend.withAttributionContext(ServerBackend.scala:24)\n\tat com.databricks.logging.UsageLogging.withAttributionTags(UsageLogging.scala:450)\n\tat com.databricks.logging.UsageLogging.withAttributionTags$(UsageLogging.scala:435)\n\tat com.databricks.rpc.ServerBackend.withAttributionTags(ServerBackend.scala:24)\n\tat com.databricks.logging.UsageLogging.recordOperationWithResultTags(UsageLogging.scala:640)\n\tat com.databricks.logging.UsageLogging.recordOperationWithResultTags$(UsageLogging.scala:559)\n\tat com.databricks.rpc.ServerBackend.recordOperationWithResultTags(ServerBackend.scala:24)\n\tat com.databricks.logging.UsageLogging.recordOperation(UsageLogging.scala:550)\n\tat com.databricks.logging.UsageLogging.recordOperation$(UsageLogging.scala:520)\n\tat com.databricks.rpc.ServerBackend.recordOperation(ServerBackend.scala:24)\n\tat com.databricks.rpc.ServerBackend.internalReceive(ServerBackend.scala:115)\n\tat com.databricks.rpc.JettyServer$RequestManager.$anonfun$handleRPC$2(JettyServer.scala:958)\n\tat scala.util.Try$.apply(Try.scala:213)\n\tat com.databricks.rpc.JettyServer$RequestManager.handleRPC(JettyServer.scala:958)\n\tat com.databricks.rpc.JettyServer$RequestManager.handleRequestAndRespond(JettyServer.scala:874)\n\tat com.databricks.rpc.JettyServer$RequestManager.$anonfun$handleHttp$2(JettyServer.scala:503)\n\tat com.databricks.rpc.JettyServer$RequestManager.$anonfun$handleHttp$2$adapted(JettyServer.scala:478)\n\tat com.databricks.logging.activity.ActivityContextFactory$.$anonfun$withActivityInternal$3(ActivityContextFactory.scala:387)\n\tat com.databricks.logging.UsageLogging.$anonfun$withAttributionContext$1(UsageLogging.scala:407)\n\tat scala.util.DynamicVariable.withValue(DynamicVariable.scala:62)\n\tat com.databricks.logging.AttributionContext$.withValue(AttributionContext.scala:158)\n\tat com.databricks.logging.UsageLogging.withAttributionContext(UsageLogging.scala:405)\n\tat com.databricks.logging.UsageLogging.withAttributionContext$(UsageLogging.scala:402)\n\tat com.databricks.logging.activity.ActivityContextFactory$.withAttributionContext(ActivityContextFactory.scala:53)\n\tat com.databricks.logging.UsageLogging.withAttributionTags(UsageLogging.scala:450)\n\tat com.databricks.logging.UsageLogging.withAttributionTags$(UsageLogging.scala:435)\n\tat com.databricks.logging.activity.ActivityContextFactory$.withAttributionTags(ActivityContextFactory.scala:53)\n\tat com.databricks.logging.activity.ActivityContextFactory$.withActivityInternal(ActivityContextFactory.scala:381)\n\tat com.databricks.logging.activity.ActivityContextFactory$.withServiceRequestActivity(ActivityContextFactory.scala:164)\n\tat com.databricks.rpc.JettyServer$RequestManager.handleHttp(JettyServer.scala:478)\n\tat com.databricks.rpc.JettyServer$RequestManager.doPost(JettyServer.scala:375)\n\tat javax.servlet.http.HttpServlet.service(HttpServlet.java:523)\n\tat com.databricks.rpc.HttpServletWithPatch.service(HttpServletWithPatch.scala:33)\n\tat javax.servlet.http.HttpServlet.service(HttpServlet.java:590)\n\tat org.eclipse.jetty.servlet.ServletHolder.handle(ServletHolder.java:799)\n\tat org.eclipse.jetty.servlet.ServletHandler.doHandle(ServletHandler.java:550)\n\tat org.eclipse.jetty.server.handler.ScopedHandler.nextScope(ScopedHandler.java:190)\n\tat org.eclipse.jetty.servlet.ServletHandler.doScope(ServletHandler.java:501)\n\tat org.eclipse.jetty.server.handler.ScopedHandler.handle(ScopedHandler.java:141)\n\tat org.eclipse.jetty.server.handler.HandlerWrapper.handle(HandlerWrapper.java:127)\n\tat org.eclipse.jetty.server.Server.handle(Server.java:516)\n\tat org.eclipse.jetty.server.HttpChannel.lambda$handle$1(HttpChannel.java:487)\n\tat org.eclipse.jetty.server.HttpChannel.dispatch(HttpChannel.java:732)\n\tat org.eclipse.jetty.server.HttpChannel.handle(HttpChannel.java:479)\n\tat org.eclipse.jetty.server.HttpConnection.onFillable(HttpConnection.java:277)\n\tat org.eclipse.jetty.io.AbstractConnection$ReadCallback.succeeded(AbstractConnection.java:311)\n\tat org.eclipse.jetty.io.FillInterest.fillable(FillInterest.java:105)\n\tat org.eclipse.jetty.io.ChannelEndPoint$1.run(ChannelEndPoint.java:104)\n\tat org.eclipse.jetty.util.thread.strategy.EatWhatYouKill.runTask(EatWhatYouKill.java:338)\n\tat org.eclipse.jetty.util.thread.strategy.EatWhatYouKill.doProduce(EatWhatYouKill.java:315)\n\tat org.eclipse.jetty.util.thread.strategy.EatWhatYouKill.tryProduce(EatWhatYouKill.java:173)\n\tat org.eclipse.jetty.util.thread.strategy.EatWhatYouKill.run(EatWhatYouKill.java:131)\n\tat org.eclipse.jetty.util.thread.ReservedThreadExecutor$ReservedThread.run(ReservedThreadExecutor.java:409)\n\tat com.databricks.rpc.InstrumentedQueuedThreadPool$$anon$1.run(InstrumentedQueuedThreadPool.scala:80)\n\tat org.eclipse.jetty.util.thread.QueuedThreadPool.runJob(QueuedThreadPool.java:883)\n\tat org.eclipse.jetty.util.thread.QueuedThreadPool$Runner.run(QueuedThreadPool.java:1034)\n\tat java.lang.Thread.run(Thread.java:750)\nCaused by: java.lang.Throwable: Timed out with exception after 1236 attempts\n\tat com.databricks.backend.common.util.TimeUtils$.retryWithExponentialBackoff0(TimeUtils.scala:221)\n\tat com.databricks.backend.common.util.TimeUtils$.retryWithExponentialBackoff(TimeUtils.scala:145)\n\tat com.databricks.backend.common.util.TimeUtils$.retryWithTimeout(TimeUtils.scala:94)\n\tat com.databricks.backend.common.util.CommandLineHelper$.runJavaProcessBuilderCommandWithTimeout(CommandLineHelper.scala:525)\n\tat com.databricks.backend.common.util.CommandLineHelper$.runJavaProcessBuilderWithTimeout(CommandLineHelper.scala:400)\n\tat com.databricks.backend.daemon.driver.DriverCorral$.$anonfun$createSessionUser$1(DriverCorral.scala:1591)\n\tat scala.runtime.java8.JFunction0$mcV$sp.apply(JFunction0$mcV$sp.java:23)\n\tat com.databricks.logging.UsageLogging.$anonfun$recordOperation$1(UsageLogging.scala:550)\n\tat com.databricks.logging.UsageLogging.executeThunkAndCaptureResultTags$1(UsageLogging.scala:645)\n\tat com.databricks.logging.UsageLogging.$anonfun$recordOperationWithResultTags$4(UsageLogging.scala:666)\n\tat com.databricks.logging.UsageLogging.$anonfun$withAttributionContext$1(UsageLogging.scala:407)\n\tat scala.util.DynamicVariable.withValue(DynamicVariable.scala:62)\n\tat com.databricks.logging.AttributionContext$.withValue(AttributionContext.scala:158)\n\tat com.databricks.logging.UsageLogging.withAttributionContext(UsageLogging.scala:405)\n\tat com.databricks.logging.UsageLogging.withAttributionContext$(UsageLogging.scala:402)\n\tat com.databricks.backend.daemon.driver.DriverCorral$.withAttributionContext(DriverCorral.scala:1043)\n\tat com.databricks.logging.UsageLogging.withAttributionTags(UsageLogging.scala:450)\n\tat com.databricks.logging.UsageLogging.withAttributionTags$(UsageLogging.scala:435)\n\tat com.databricks.backend.daemon.driver.DriverCorral$.withAttributionTags(DriverCorral.scala:1043)\n\tat com.databricks.logging.UsageLogging.recordOperationWithResultTags(UsageLogging.scala:640)\n\tat com.databricks.logging.UsageLogging.recordOperationWithResultTags$(UsageLogging.scala:559)\n\tat com.databricks.backend.daemon.driver.DriverCorral$.recordOperationWithResultTags(DriverCorral.scala:1043)\n\tat com.databricks.logging.UsageLogging.recordOperation(UsageLogging.scala:550)\n\tat com.databricks.logging.UsageLogging.recordOperation$(UsageLogging.scala:520)\n\tat com.databricks.backend.daemon.driver.DriverCorral$.recordOperation(DriverCorral.scala:1043)\n\tat com.databricks.backend.daemon.driver.DriverCorral$.createSessionUser(DriverCorral.scala:1590)\n\tat com.databricks.backend.daemon.driver.DriverCorral.createDriverSparkHooks(DriverCorral.scala:417)\n\tat com.databricks.backend.daemon.driver.DriverCorral.$anonfun$addReplToExecutionContext$1(DriverCorral.scala:429)\n\tat scala.collection.mutable.HashMap.getOrElseUpdate(HashMap.scala:86)\n\tat com.databricks.backend.daemon.driver.DriverCorral.addReplToExecutionContext(DriverCorral.scala:429)\n\tat com.databricks.backend.daemon.driver.DriverCorral.com$databricks$backend$daemon$driver$DriverCorral$$handleRequest(DriverCorral.scala:500)\n\t... 71 more\n",
       "errorSummary": "Failure starting repl. Try detaching and re-attaching the notebook.\n\n",
       "errorTraceType": "html",
       "metadata": {},
       "type": "ipynbError"
      }
     },
     "output_type": "display_data"
    }
   ],
   "source": [
    "savePipeline(pipeline_dtModel,\"MulticlassModel-FinalDT\")"
   ]
  },
  {
   "cell_type": "code",
   "execution_count": 0,
   "metadata": {
    "application/vnd.databricks.v1+cell": {
     "cellMetadata": {
      "byteLimit": 2048000,
      "rowLimit": 10000
     },
     "inputWidgets": {},
     "nuid": "f56e6289-07ab-4051-8557-8f9bc83e8574",
     "showTitle": true,
     "title": "Checking best hyperparameters selected by grid search"
    }
   },
   "outputs": [
    {
     "output_type": "display_data",
     "data": {
      "text/html": [
       "<style scoped>\n",
       "  .ansiout {\n",
       "    display: block;\n",
       "    unicode-bidi: embed;\n",
       "    white-space: pre-wrap;\n",
       "    word-wrap: break-word;\n",
       "    word-break: break-all;\n",
       "    font-family: \"Menlo\", \"Monaco\", \"Consolas\", \"Ubuntu Mono\", \"Source Code Pro\", monospace;\n",
       "    font-size: 13px;\n",
       "    color: #555;\n",
       "    margin-left: 4px;\n",
       "    line-height: 19px;\n",
       "  }\n",
       "</style>"
      ]
     },
     "metadata": {
      "application/vnd.databricks.v1+output": {
       "arguments": {},
       "data": "",
       "errorSummary": "Cancelled",
       "errorTraceType": "html",
       "metadata": {},
       "type": "ipynbError"
      }
     },
     "output_type": "display_data"
    }
   ],
   "source": [
    "cvModel = pipeline_dtModel.stages[-1]\n",
    "print(cvModel.bestModel.getMaxDepth())\n",
    "print(cvModel.bestModel.getMaxBins())"
   ]
  },
  {
   "cell_type": "markdown",
   "metadata": {
    "application/vnd.databricks.v1+cell": {
     "cellMetadata": {},
     "inputWidgets": {},
     "nuid": "f5ed126a-d681-4e1e-bd33-40c4ec6c2a42",
     "showTitle": false,
     "title": ""
    }
   },
   "source": [
    "#Conclusion"
   ]
  },
  {
   "cell_type": "markdown",
   "metadata": {
    "application/vnd.databricks.v1+cell": {
     "cellMetadata": {},
     "inputWidgets": {},
     "nuid": "1e929297-950b-4538-a314-ef901ed380ec",
     "showTitle": false,
     "title": ""
    }
   },
   "source": [
    "* Task: Identify ransomware payment within bitcoin transaction\n",
    "\n",
    "1. Through EDA it was identified that this big data was highly imbalanced. Through successful implementation of SMOTE-ENN on the cluster we were able to balance the dataset.\n",
    "2. After implementation of various ML models on this balanced dataset, we come to the conclusion that decision tree is the best model for making predictions on this dataset which is represented through the comparison between evaluation metrics. Even though random forest produced identical resutls, decision tree being the lighter model saves us computational cost and time while giving similar/slightly better results.\n",
    "\n",
    "* This project helped us understand how big data works and its pyspark implementation for such complex tasks like machine learning. We learnt how to handle big data stored in cluster and use various libraries in python to build a classifier which not only detects a bitcoin ransomware threat but also identifies its location. Our team is satisfied with the result and highly grateful for this practical learning opportunity."
   ]
  }
 ],
 "metadata": {
  "application/vnd.databricks.v1+notebook": {
   "dashboards": [],
   "language": "python",
   "notebookMetadata": {
    "pythonIndentUnit": 2
   },
   "notebookName": "Team_14_Project",
   "widgets": {}
  }
 },
 "nbformat": 4,
 "nbformat_minor": 0
}
